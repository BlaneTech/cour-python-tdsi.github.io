{
 "cells": [
  {
   "cell_type": "markdown",
   "metadata": {},
   "source": [
    "<h1> Ecole Polytechnique de Thies</h1>  \n",
    "<h1> Cours d'introduction de Python</h1>    \n",
    "<h2> Enseignant : Dr. Michel SECK </h2>\n",
    "<h2>Email : mseck@ept.sn</h2>\n",
    "\n"
   ]
  },
  {
   "cell_type": "markdown",
   "metadata": {},
   "source": [
    "<center> <h1> Partie II : Conditions,  Boucles et Excéptions</h1></center>\n",
    " \n",
    " 1. Conditions\n",
    " 2. Boucles\n",
    " 3. Compréhension de listes, d'ensembles, et de dictionnaires\n",
    " 4. Excéptions\n",
    " "
   ]
  },
  {
   "cell_type": "markdown",
   "metadata": {},
   "source": [
    "\n",
    "\n"
   ]
  },
  {
   "cell_type": "markdown",
   "metadata": {},
   "source": [
    "## 1. Opérateurs\n",
    "\n",
    "### Comparaison\n",
    "\n",
    "`<` (inférieur) ; `<=` (inférieur ou égal) ; `>` (supérieur) ; `>=` (supérieur ou égal) ; `==` (égalité) ; `!=` (différent), `is` (est) et `not is` (n'est pas).\n",
    "    \n",
    "### Logique\n",
    "\n",
    "`in` (appartient) ; `not` (negation) ; `not in` (n'appartient pas) ; `and` (et) ; `or` (ou) \n",
    "\n",
    "```python\n",
    "  True and True         # True\n",
    "  True and False        # False\n",
    "  False and False       # False\n",
    "  True or False         # True\n",
    "  not False             # True\n",
    "  not(True or False)    # False\n",
    "  not(True or True)     # False\n",
    "  not True or True      # True\n",
    "```"
   ]
  },
  {
   "cell_type": "code",
   "execution_count": 1,
   "metadata": {},
   "outputs": [
    {
     "data": {
      "text/plain": [
       "True"
      ]
     },
     "execution_count": 1,
     "metadata": {},
     "output_type": "execute_result"
    }
   ],
   "source": [
    "2 < 5"
   ]
  },
  {
   "cell_type": "code",
   "execution_count": 2,
   "metadata": {},
   "outputs": [
    {
     "data": {
      "text/plain": [
       "True"
      ]
     },
     "execution_count": 2,
     "metadata": {},
     "output_type": "execute_result"
    }
   ],
   "source": [
    "4 == 8-4"
   ]
  },
  {
   "cell_type": "code",
   "execution_count": 3,
   "metadata": {},
   "outputs": [
    {
     "data": {
      "text/plain": [
       "True"
      ]
     },
     "execution_count": 3,
     "metadata": {},
     "output_type": "execute_result"
    }
   ],
   "source": [
    "0 == 0.0"
   ]
  },
  {
   "cell_type": "code",
   "execution_count": 4,
   "metadata": {},
   "outputs": [
    {
     "data": {
      "text/plain": [
       "True"
      ]
     },
     "execution_count": 4,
     "metadata": {},
     "output_type": "execute_result"
    }
   ],
   "source": [
    " 6 != 6.0001"
   ]
  },
  {
   "cell_type": "code",
   "execution_count": 5,
   "metadata": {},
   "outputs": [
    {
     "data": {
      "text/plain": [
       "True"
      ]
     },
     "execution_count": 5,
     "metadata": {},
     "output_type": "execute_result"
    }
   ],
   "source": [
    "(2 < 5) and 9 in (6, 8.1, 9)"
   ]
  },
  {
   "cell_type": "code",
   "execution_count": 6,
   "metadata": {},
   "outputs": [
    {
     "data": {
      "text/plain": [
       "True"
      ]
     },
     "execution_count": 6,
     "metadata": {},
     "output_type": "execute_result"
    }
   ],
   "source": [
    "x = 10\n",
    "\n",
    "9 <= x < 10.5"
   ]
  },
  {
   "cell_type": "markdown",
   "metadata": {},
   "source": [
    "# 2. La condition `if ...., elif ...., else .....`\n",
    "\n",
    "\n",
    "\n",
    "## Cas 1\n",
    "\n",
    "```python\n",
    "\n",
    "if condition: \n",
    "    <Instructions>\n",
    "    \n",
    "```\n",
    "\n",
    "\n",
    "## Cas 2\n",
    "\n",
    "```python\n",
    "\n",
    "if condition: \n",
    "    <Instructions>\n",
    "else:\n",
    "    <Instructions>\n",
    "    \n",
    "```\n",
    "\n",
    "\n",
    "```python\n",
    "\n",
    "if condition 1: \n",
    "    <Instructions>\n",
    "elif condition 2: \n",
    "    <Instructions>\n",
    "elif condition 3: \n",
    "    <Instructions>\n",
    " # .\n",
    " # .\n",
    "elif condition n: \n",
    "    <Instructions>\n",
    "    \n",
    "```\n",
    "\n",
    "## Cas Général\n",
    "\n",
    "```python\n",
    "\n",
    "if condition 1: \n",
    "    <Instructions>\n",
    "elif condition 2: \n",
    "    <Instructions>\n",
    "elif condition 3: \n",
    "    <Instructions>\n",
    " # .\n",
    " # .\n",
    "else:\n",
    "    <Instructions>\n",
    "    \n",
    "```\n",
    "\n",
    "Il peut y avoir un nombre quelconque de parties `elif` et la partie `else` est facultative, seul la partie `if` est obligatoire. Le mot clé `elif` est un raccourci pour `else if`."
   ]
  },
  {
   "cell_type": "code",
   "execution_count": 7,
   "metadata": {},
   "outputs": [
    {
     "name": "stdout",
     "output_type": "stream",
     "text": [
      "Adresse GMAIL non valide\n"
     ]
    }
   ],
   "source": [
    "email = input(\"Saire une adresse email GMAIL valide\")\n",
    "if (not email.endswith(\"@gmail.com\")) or (email.count(\"@\") > 1):\n",
    "    print(\"Adresse GMAIL non valide\")\n",
    "elif len(email) < 13:\n",
    "    print(\"Adresse email trop courte\")\n",
    "elif len(email) > 30:\n",
    "    print(\"Adresse email trop longue\")\n",
    "else:\n",
    "    print(\"Adresse email semble être normale\")\n",
    "    \n",
    "\n",
    "    "
   ]
  },
  {
   "cell_type": "markdown",
   "metadata": {},
   "source": [
    "# Exercice\n",
    "\n",
    "Ecrire un code en python qui permet de distinguer un entier **pair** et un entier **impair**"
   ]
  },
  {
   "cell_type": "markdown",
   "metadata": {},
   "source": [
    "Solution"
   ]
  },
  {
   "cell_type": "code",
   "execution_count": 9,
   "metadata": {},
   "outputs": [
    {
     "name": "stdout",
     "output_type": "stream",
     "text": [
      "L'entier n = 12 est pair\n"
     ]
    }
   ],
   "source": [
    "number=eval(input(\"entrer un nombre\"))\n",
    "if((number%2)==0):\n",
    "    print(f\"L'entier n = {number} est pair\")\n",
    "else:\n",
    "    print(\"L'entier n = {}\")"
   ]
  },
  {
   "cell_type": "markdown",
   "metadata": {},
   "source": [
    "**Remarque** : La fonction `eval`"
   ]
  },
  {
   "cell_type": "markdown",
   "metadata": {},
   "source": [
    "# Exercice\n",
    "\n",
    "Ecrire un code en python qui permet de distinguer un entier **pair** et un entier **impair**\n",
    "\n",
    "On s'assurera que l'utilisteur a bien saisi un entier"
   ]
  },
  {
   "cell_type": "markdown",
   "metadata": {},
   "source": [
    "Solution"
   ]
  },
  {
   "cell_type": "code",
   "execution_count": 10,
   "metadata": {},
   "outputs": [
    {
     "name": "stdout",
     "output_type": "stream",
     "text": [
      "Ce nombre est impair\n"
     ]
    }
   ],
   "source": [
    "# Votre code ici\n",
    "number= eval(input(\"donner un nombre\"))\n",
    "if type(number)== int:\n",
    "    if number%2==0:\n",
    "        print(\"Ce nombre est pair\")\n",
    "    else:\n",
    "        print(\"Ce nombre est impair\")\n",
    "else:\n",
    "     print(\"Veuillez svp saisir un entier\")"
   ]
  },
  {
   "cell_type": "markdown",
   "metadata": {},
   "source": [
    "**Remarque** : tester le type d'une variable : la fonction `isinstance`"
   ]
  },
  {
   "cell_type": "markdown",
   "metadata": {},
   "source": [
    "# Exercice\n",
    " 1. Demander à l'utilisteur son age\n",
    " 2. \n",
    "     * Si $0\\leq age \\leq 18$, afficher Mineur\n",
    "     * Si $18< age \\leq 60$, afficher Adulte\n",
    "     * Si $ age > 60$, afficher Vieux\n",
    "     * Sinon, afficher \"Erreur\""
   ]
  },
  {
   "cell_type": "code",
   "execution_count": null,
   "metadata": {},
   "outputs": [
    {
     "name": "stdout",
     "output_type": "stream",
     "text": [
      "Votre age svp-5\n",
      "Erreur\n"
     ]
    }
   ],
   "source": [
    "# Votre code ici\n",
    "age= eval(input(\"Votre age svp\"))\n",
    "if type(age)==int:\n",
    "    if 0<= age<=18:\n",
    "        print(\"vous êtes mineur\")\n",
    "    elif 18<=age<=60:\n",
    "        print(\"Vous êtes Adulte\")\n",
    "    elif age>60:\n",
    "        print(\"vous êtes vieux\")\n",
    "    else:\n",
    "        print(\"Erreur\")\n",
    "else:\n",
    "    print(\"age invalide\")\n",
    "              \n",
    "                  "
   ]
  },
  {
   "cell_type": "markdown",
   "metadata": {},
   "source": [
    "# Exercice : Calcul de mediane d'une serie statistique\n",
    "\n",
    "Ecrire un programme qui permet de calculer **la médiane d'une série statistique** donnée sous forme d'une `liste` ou `tuple`.\n",
    "\n",
    "On rappele que la médiane `Me` d'une série statistique de taille `N` est le nombre qui sépare la série ordonnée en deux groupes de même effectif. \n",
    "\n",
    "- Si `N` est impair, elle correspond à la $\\dfrac{N+1}{2}$-ième valeur de la série ordonnée.\n",
    "- Si `N` est pair, elle correspond à la moyenne de la $\\dfrac{N}{2}$-ième de la $\\dfrac{N}{2}+ 1$-ième valeur de la série ordonnée.\n",
    "\n",
    "**Remarque** : On s'assurera que l'utilisateur a bien saisie une `liste` ou `tuple` avant de calculer la médiane..\n"
   ]
  },
  {
   "cell_type": "code",
   "execution_count": null,
   "metadata": {},
   "outputs": [
    {
     "name": "stdout",
     "output_type": "stream",
     "text": [
      "Donner une serie5,85,78,96\n",
      "saisir une serie valide\n"
     ]
    }
   ],
   "source": [
    "# Votre code ici\n",
    "\n",
    "serie= (input(\"Donner une serie\"))\n",
    "if isinstance(serie, (tuple, list)):\n",
    "    serie = sorted(serie)\n",
    "    N=len(serie)\n",
    "    if N%2 == 1:\n",
    "        me = serie[((N+1)/2)-1]\n",
    "    else:\n",
    "        me=(serie[N/2 - 1] +serie[N/2])/2\n",
    "    print(f\"{me=}\") #f\"me=(me)}\n",
    "else:\n",
    "    print(\"saisir une serie valide\")"
   ]
  },
  {
   "cell_type": "markdown",
   "metadata": {},
   "source": [
    "**Remarque** : Opérateur `:=` (nouveau `python >=3.8`)\n",
    "\n"
   ]
  },
  {
   "cell_type": "code",
   "execution_count": null,
   "metadata": {},
   "outputs": [],
   "source": [
    "v = [1,2,3,4]\n",
    "if (n:=len(v)) == 4:\n",
    "        print(3*n)"
   ]
  },
  {
   "cell_type": "code",
   "execution_count": null,
   "metadata": {},
   "outputs": [],
   "source": [
    "v = [1,2,3,4]\n",
    "n=len(v)\n",
    "if n == 4:\n",
    "        print(3*n)"
   ]
  },
  {
   "cell_type": "markdown",
   "metadata": {},
   "source": [
    "##  La fonction `range`\n",
    "\n",
    "* `range(m)` $\\to 0, 1, 2, ..., m - 1$"
   ]
  },
  {
   "cell_type": "code",
   "execution_count": null,
   "metadata": {},
   "outputs": [],
   "source": [
    "range(10) # 0, 1, 2, ..., 8, 9"
   ]
  },
  {
   "cell_type": "code",
   "execution_count": null,
   "metadata": {},
   "outputs": [],
   "source": [
    "list(range(10))"
   ]
  },
  {
   "cell_type": "markdown",
   "metadata": {},
   "source": [
    "* `range(m, n)` $\\to m, m+1, m+2, ..., n-1$"
   ]
  },
  {
   "cell_type": "code",
   "execution_count": null,
   "metadata": {},
   "outputs": [],
   "source": [
    "list(range(0, 10)) # = list(range(10))"
   ]
  },
  {
   "cell_type": "markdown",
   "metadata": {},
   "source": [
    "* `range(m, n, k)` $\\to m, m+k, m+2k, m+3k, ..., n-1$"
   ]
  },
  {
   "cell_type": "code",
   "execution_count": null,
   "metadata": {},
   "outputs": [],
   "source": [
    "list(range(4, 20, 2))"
   ]
  },
  {
   "cell_type": "code",
   "execution_count": null,
   "metadata": {},
   "outputs": [],
   "source": [
    "type(range(4, 10, 1))"
   ]
  },
  {
   "cell_type": "markdown",
   "metadata": {},
   "source": [
    "# 3. La boucle `for`\n",
    "\n",
    "L'instruction `for` que propose `Python` est un peu différente de celle que l'on peut trouver en `C`. Au lieu de donner à l'utilisateur la possibilité de définir le pas d'itération et la condition de fin (comme en `C`), **l'instruction `for` en Python itère sur les éléments d'une séquence (qui peut être de type `list`, `str`, `tuple`, `range`, etc), dans l'ordre dans lequel ils apparaissent dans la séquence. Par exemple :**"
   ]
  },
  {
   "cell_type": "code",
   "execution_count": null,
   "metadata": {},
   "outputs": [
    {
     "name": "stdout",
     "output_type": "stream",
     "text": [
      "0\n",
      "1\n",
      "2\n",
      "3\n",
      "4\n",
      "5\n",
      "6\n",
      "7\n",
      "8\n",
      "9\n"
     ]
    }
   ],
   "source": [
    "for i in range(0, 10):\n",
    "    print(i)"
   ]
  },
  {
   "cell_type": "code",
   "execution_count": null,
   "metadata": {},
   "outputs": [],
   "source": [
    "fruits = [\"Pomme\", \"Orange\", \"Mangue\", \"Bannane\", \"Pastec\", \"Citron\"]"
   ]
  },
  {
   "cell_type": "code",
   "execution_count": null,
   "metadata": {},
   "outputs": [],
   "source": [
    "for fr in fruits:\n",
    "    print(fr)"
   ]
  },
  {
   "cell_type": "code",
   "execution_count": null,
   "metadata": {},
   "outputs": [],
   "source": [
    "chaine = \"Equipe TDSI\"\n",
    "for caracter in chaine:\n",
    "    print(caracter, 5*caracter)\n",
    "    # noter que 5*caracter = caracter + caracter + caracter + caracter + caracter\n",
    "    "
   ]
  },
  {
   "cell_type": "code",
   "execution_count": null,
   "metadata": {},
   "outputs": [],
   "source": [
    "liste = eval(input(\"Donner une liste d'entiers : \"))\n",
    "liste_carre  = []\n",
    "for elt in liste:\n",
    "    liste_carre.append(elt ** 2)\n",
    "    \n",
    "print(liste_carre)"
   ]
  },
  {
   "cell_type": "markdown",
   "metadata": {},
   "source": [
    "# Exercice\n",
    "\n",
    "1. Demander à l'utilisateur une liste de valeur.\n",
    "2. Déterminer et afficher la moyenne"
   ]
  },
  {
   "cell_type": "code",
   "execution_count": null,
   "metadata": {},
   "outputs": [],
   "source": [
    "# Votre code ici\n",
    "\n"
   ]
  },
  {
   "cell_type": "markdown",
   "metadata": {},
   "source": [
    "# Les instructions `break`, `continue` et les clauses `else` au sein des boucles"
   ]
  },
  {
   "cell_type": "markdown",
   "metadata": {},
   "source": [
    "* L'instruction `break`, comme en `C`, interrompt la boucle `for` ou `while` la plus profonde.\n",
    "\n",
    "* L'instruction `continue`, également empruntée au `C`, fait passer la boucle à son itération suivante :\n",
    "\n",
    "* Les boucles peuvent également disposer d'une instruction `else` ; celle-ci est exécutée lorsqu'une boucle se termine alors que tous ses éléments ont été traités (dans le cas d'un `for`) ou que la condition devient fausse (dans le cas d'un `while`), mais pas lorsque la boucle est interrompue par une instruction `break`."
   ]
  },
  {
   "cell_type": "markdown",
   "metadata": {},
   "source": [
    "## Exemple\n",
    "\n",
    "Supposons qu'on cherche le premier entier `n` positif entre $0$ et $20$ tel que $-9n^2+n^3-8n > 0$"
   ]
  },
  {
   "cell_type": "code",
   "execution_count": null,
   "metadata": {},
   "outputs": [
    {
     "name": "stdout",
     "output_type": "stream",
     "text": [
      "n = 11\n"
     ]
    }
   ],
   "source": [
    "# Utilisation de break\n",
    "for n in range(21):\n",
    "    if -9*n**2 + n**3 - 8*n > 100:\n",
    "        print(f\"n = {n}\")\n",
    "        break"
   ]
  },
  {
   "cell_type": "markdown",
   "metadata": {},
   "source": [
    "Supposons qu'on cherche qu'on cherche à déterminer s'il existe un $n$ avec $0\\leq n\\leq 100$ tel que $n^3+2n-1 = 20$."
   ]
  },
  {
   "cell_type": "code",
   "execution_count": null,
   "metadata": {},
   "outputs": [
    {
     "name": "stdout",
     "output_type": "stream",
     "text": [
      "Aucune valeur trouvée\n"
     ]
    }
   ],
   "source": [
    "# Utilisation de else donc une boucle for\n",
    "for n in range(101):\n",
    "    if n **3 +2*n -1 == 0:\n",
    "        print(f\"n = {n}\")\n",
    "        break\n",
    "else:\n",
    "    print(\"Aucune valeur trouvée\")"
   ]
  },
  {
   "cell_type": "markdown",
   "metadata": {},
   "source": [
    "**Exercice** : \n",
    "\n",
    "1. Demander à l'utilisateur un entier naturel `N>1`.\n",
    "2. Dire si `N` est un nombre premier ou non\n",
    "\n",
    "On rappelle qu'on nombre $N>1$ est premier s'il n'admet que deux diviseurs `1` et lui-même."
   ]
  },
  {
   "cell_type": "code",
   "execution_count": null,
   "metadata": {},
   "outputs": [
    {
     "name": "stdout",
     "output_type": "stream",
     "text": [
      "Donner un nombre27\n",
      "ce nombre n'est pas premier\n"
     ]
    }
   ],
   "source": [
    "number=eval(input(\"Donner un nombre\"))\n",
    "for i in range(2, number):\n",
    "    if number%i == 0: \n",
    "        print(\"ce nombre n'est pas premier\")\n",
    "        break\n",
    "else:\n",
    "        print(\"Ce nombre est premier\")\n",
    "    "
   ]
  },
  {
   "cell_type": "markdown",
   "metadata": {},
   "source": [
    "# L'instruction `pass`"
   ]
  },
  {
   "cell_type": "markdown",
   "metadata": {},
   "source": [
    "L'instruction `pass` ne fait rien. Elle peut être utilisée lorsqu'une instruction est nécessaire pour fournir une syntaxe correcte, mais qu'aucune action ne doit être effectuée"
   ]
  },
  {
   "cell_type": "code",
   "execution_count": null,
   "metadata": {},
   "outputs": [],
   "source": [
    "for i in range(n):\n",
    "    pass"
   ]
  },
  {
   "cell_type": "markdown",
   "metadata": {},
   "source": [
    "# 4. Listes, tuples et dictionnaires en compréhension\n",
    "\n",
    "Une **compréhension de liste** consiste à placer entre crochets une expression suivie par une clause `for` puis par zéro ou plus clauses `for` ou `if`. Le résultat est une nouvelle liste résultat de l'évaluation de l'expression dans le contexte des clauses `for` et `if` qui la suivent i.e\n",
    "\n",
    "```\n",
    "[expresion  boucle 1 ... boucle k condition 1 ....  condition n]\n",
    "```"
   ]
  },
  {
   "cell_type": "markdown",
   "metadata": {},
   "source": [
    "$$\\{ f(x) | x\\in \\ \\text{  Ensemble  et } x \\text{ verifie une condition}\\} $$"
   ]
  },
  {
   "cell_type": "code",
   "execution_count": null,
   "metadata": {},
   "outputs": [
    {
     "name": "stdout",
     "output_type": "stream",
     "text": [
      "[0, 1, 4, 9, 16, 25, 36, 49, 64, 81]\n"
     ]
    }
   ],
   "source": [
    "L = []\n",
    "for x in range(10):\n",
    "    L.append(x**2)\n",
    "print(L)"
   ]
  },
  {
   "cell_type": "markdown",
   "metadata": {},
   "source": [
    "### Ce code est équivalent au code suivant"
   ]
  },
  {
   "cell_type": "code",
   "execution_count": null,
   "metadata": {},
   "outputs": [
    {
     "data": {
      "text/plain": [
       "[0, 1, 4, 9, 16, 25, 36, 49, 64, 81]"
      ]
     },
     "execution_count": 4,
     "metadata": {},
     "output_type": "execute_result"
    }
   ],
   "source": [
    "[x**2 for x in range(10)]"
   ]
  },
  {
   "cell_type": "code",
   "execution_count": null,
   "metadata": {},
   "outputs": [],
   "source": []
  },
  {
   "cell_type": "markdown",
   "metadata": {},
   "source": [
    "Bonjour"
   ]
  },
  {
   "cell_type": "markdown",
   "metadata": {},
   "source": [
    "### L'ensemble des couples `(i,j)` avec $0\\leq i, j \\leq 9$ et $2i < j$"
   ]
  },
  {
   "cell_type": "code",
   "execution_count": null,
   "metadata": {},
   "outputs": [],
   "source": [
    "[(i,j) for i in range(10) for j in range(10) if 2*i < j]"
   ]
  },
  {
   "cell_type": "code",
   "execution_count": null,
   "metadata": {},
   "outputs": [
    {
     "data": {
      "text/plain": [
       "'1@2@3@4@5@6@7@8@9@10@11@12@13@14@15@16@17@18@19@20@21@22@23@24@25@26@27@28@29@30@31@32@33@34@35@36@37@38@39@40@41@42@43@44@45@46@47@48@49@50'"
      ]
     },
     "execution_count": 64,
     "metadata": {},
     "output_type": "execute_result"
    }
   ],
   "source": [
    "\"@\".join([str(i) for i in range(1, 51)])"
   ]
  },
  {
   "cell_type": "markdown",
   "metadata": {},
   "source": [
    "**Exercice :** Déterminer la liste de l'ensemble des carrés des entiers naturels plus petit que $10$"
   ]
  },
  {
   "cell_type": "code",
   "execution_count": null,
   "metadata": {},
   "outputs": [
    {
     "data": {
      "text/plain": [
       "'dfallouifallouafallouw'"
      ]
     },
     "execution_count": 5,
     "metadata": {},
     "output_type": "execute_result"
    }
   ],
   "source": [
    "# Votre code ici"
   ]
  },
  {
   "cell_type": "markdown",
   "metadata": {},
   "source": [
    "### Exercice :\n",
    "Déterminer l'ensemble des carrés des entiers naturels $i$  plus petit que $10$ et congrus à $1$ modulo $3$."
   ]
  },
  {
   "cell_type": "code",
   "execution_count": null,
   "metadata": {},
   "outputs": [],
   "source": [
    "# Votre code ici\n"
   ]
  },
  {
   "cell_type": "markdown",
   "metadata": {},
   "source": [
    "### Avec les dictionnaires ?"
   ]
  },
  {
   "cell_type": "code",
   "execution_count": null,
   "metadata": {},
   "outputs": [],
   "source": [
    "dico = {i: i**2 for i in range(10)}\n",
    "print(dico)"
   ]
  },
  {
   "cell_type": "code",
   "execution_count": null,
   "metadata": {},
   "outputs": [],
   "source": [
    "dico2 = {i: i**2 for i in range(10) if i%3 == 1}\n",
    "print(dico2)"
   ]
  },
  {
   "cell_type": "code",
   "execution_count": null,
   "metadata": {},
   "outputs": [],
   "source": [
    "dico1 = {i: i**2 for i in range(10)}\n",
    "dico1"
   ]
  },
  {
   "cell_type": "code",
   "execution_count": null,
   "metadata": {},
   "outputs": [],
   "source": [
    "dico1.items()"
   ]
  },
  {
   "cell_type": "markdown",
   "metadata": {},
   "source": [
    "**Exercice**:\n",
    "1. Lire un dictionnaire appelé dico3 de la forme\n",
    "\n",
    "   {key1:value1, key2: value2, ..., keyn: value}\n",
    "2. Afficher le dictionnaire inverse :\n",
    "\n",
    "    {value1:key1, ..., valuen: keyn}"
   ]
  },
  {
   "cell_type": "code",
   "execution_count": null,
   "metadata": {},
   "outputs": [],
   "source": [
    "# Votre code ici\n",
    "\n"
   ]
  },
  {
   "cell_type": "markdown",
   "metadata": {},
   "source": [
    "# 5-Excéptions"
   ]
  },
  {
   "cell_type": "markdown",
   "metadata": {},
   "source": [
    "### Quelques exceptions\n",
    "\n",
    "\n",
    "   - `StopIteration`\n",
    "   - `ZeroDivisionError`\n",
    "   - `AssertionError`\n",
    "   - `ImportError`\n",
    "   - `ModuleNotFoundError`\n",
    "   - `IndexError`\n",
    "   - `KeyError`\n",
    "   - `NameError`\n",
    "   - `UnboundLocalError`\n",
    "   - `SyntaxError`\n",
    "   - `IndentationError`\n",
    "   - `TabError`\n",
    "   - `TypeError`\n",
    "   - `ValueError`\n",
    "   - ....\n",
    "   "
   ]
  },
  {
   "cell_type": "code",
   "execution_count": null,
   "metadata": {
    "scrolled": true
   },
   "outputs": [],
   "source": [
    "# ept n'est pas défini\n",
    "tdsi + 1 "
   ]
  },
  {
   "cell_type": "code",
   "execution_count": null,
   "metadata": {},
   "outputs": [],
   "source": [
    "dic = {}"
   ]
  },
  {
   "cell_type": "code",
   "execution_count": null,
   "metadata": {},
   "outputs": [],
   "source": [
    "# \"ept\" n'est pas une clé de `dic`\n",
    "dic[\"tdsi\"]"
   ]
  },
  {
   "cell_type": "markdown",
   "metadata": {},
   "source": [
    "### Gestion des excéptions :\n",
    "\n"
   ]
  },
  {
   "cell_type": "markdown",
   "metadata": {},
   "source": [
    "## **Méthode 1**:\n",
    "\n",
    " ```\n",
    "\n",
    "    try:\n",
    "        <instructions>\n",
    "    except <type-d'exception>:\n",
    "        <instructions>\n",
    "    \n",
    "\n",
    " ```\n",
    "\n"
   ]
  },
  {
   "cell_type": "code",
   "execution_count": null,
   "metadata": {},
   "outputs": [],
   "source": [
    "3/0"
   ]
  },
  {
   "cell_type": "code",
   "execution_count": null,
   "metadata": {},
   "outputs": [],
   "source": [
    "a = int(input(\"Donner un entier a : \"))\n",
    "b = int(input(\"Donner un autre entier b : \"))\n",
    "\n",
    "try:\n",
    "    b = a/b\n",
    "    print(f\"a/b = {a/b}\")\n",
    "except ZeroDivisionError:\n",
    "    print(\"On ne peut pas diviser par Zero\")"
   ]
  },
  {
   "cell_type": "markdown",
   "metadata": {},
   "source": [
    "**Remarque** : affectation d'une exception à une variable"
   ]
  },
  {
   "cell_type": "code",
   "execution_count": null,
   "metadata": {},
   "outputs": [],
   "source": [
    "a = int(input(\"Donner un entier a : \"))\n",
    "b = int(input(\"Donner un autre entier b : \"))\n",
    "\n",
    "try:\n",
    "    b = a/b\n",
    "    print(f\"a/b = {a/b}\")\n",
    "except Exception as e:\n",
    "    print(\"La nature de l'exception\")\n",
    "    print(e)\n",
    "    print(f\"Type de l'exception {type(e)}\")\n",
    "    if type(e) == ZeroDivisionError:\n",
    "        print(\"Attenion : Division par Zero\")"
   ]
  },
  {
   "cell_type": "markdown",
   "metadata": {},
   "source": [
    "## **Méthode 2**: Plus générale\n",
    "\n",
    "```\n",
    "\n",
    "    try:\n",
    "        <instructions>\n",
    "    except <type-1-d'exception>:\n",
    "        <instructions>\n",
    "    except <type-2-d'exception>:\n",
    "        <instructions>\n",
    "     .\n",
    "     .\n",
    "     .\n",
    "    except <type-n-d'exception>:\n",
    "        <instructions>\n",
    "    \n",
    "\n",
    " ```"
   ]
  },
  {
   "cell_type": "markdown",
   "metadata": {},
   "source": [
    "**Remarque**: Comment gerer le fait que l'utilsateur pourrait ne pas saisir une valeur qu'on ne pourrait pas convertir en un entier."
   ]
  },
  {
   "cell_type": "code",
   "execution_count": null,
   "metadata": {},
   "outputs": [],
   "source": [
    "try:\n",
    "    a = int(input(\"Donner un entier a : \"))\n",
    "    b = int(input(\"Donner un autre entier b : \"))\n",
    "    b = a/b\n",
    "    print(f\"a/b = {a/b}\")\n",
    "except ZeroDivisionError:\n",
    "    print(\"On ne peut pas diviser par Zero\")"
   ]
  },
  {
   "cell_type": "markdown",
   "metadata": {},
   "source": [
    "**Remarque** : Une même clause ``except`` peut citer plusieurs exceptions sous la forme d'un `tuple`."
   ]
  },
  {
   "cell_type": "code",
   "execution_count": null,
   "metadata": {},
   "outputs": [],
   "source": [
    "try:\n",
    "    a = int(input(\"Donner un entier a : \"))\n",
    "    b = int(input(\"Donner un autre entier b : \"))\n",
    "    b = a/b\n",
    "    print(f\"a/b = {a/b}\")\n",
    "except (ZeroDivisionError, ValueError):\n",
    "    print(\"OOOH\")"
   ]
  },
  {
   "cell_type": "markdown",
   "metadata": {},
   "source": [
    "## **Méthode 2**: Plus générale\n",
    "\n",
    "```\n",
    "\n",
    "    try:\n",
    "        <instructions>\n",
    "    except <type-1-d'exception>:\n",
    "        <instructions>\n",
    "    except <type-2-d'exception>:\n",
    "        <instructions>\n",
    "     .\n",
    "     .\n",
    "     .\n",
    "    except <type-n-d'exception>:\n",
    "        <instructions>\n",
    "    else:\n",
    "        <instructions>\n",
    "    finally:\n",
    "        <instructions>\n",
    "    \n",
    "\n",
    " ```"
   ]
  },
  {
   "cell_type": "code",
   "execution_count": null,
   "metadata": {},
   "outputs": [],
   "source": [
    "try :\n",
    "    8/\"8\"\n",
    "except ZeroDivisionError:\n",
    "    print(\"A\")\n",
    "finally:\n",
    "    print(\"DIC1\")"
   ]
  },
  {
   "cell_type": "code",
   "execution_count": null,
   "metadata": {},
   "outputs": [],
   "source": [
    "try :\n",
    "    8/0\n",
    "except:\n",
    "    pass"
   ]
  },
  {
   "cell_type": "code",
   "execution_count": null,
   "metadata": {},
   "outputs": [],
   "source": [
    "import this"
   ]
  },
  {
   "cell_type": "markdown",
   "metadata": {},
   "source": [
    "## Lever une exception\n",
    "\n",
    "**Syntaxe** :\n",
    "```python\n",
    "\n",
    "    raise Exception(\"Message\")\n",
    "```"
   ]
  },
  {
   "cell_type": "code",
   "execution_count": null,
   "metadata": {},
   "outputs": [],
   "source": [
    "email = input(\"Donner votre email \")\n",
    "if \"@\" not in email:\n",
    "    raise ValueError(\"Il faut saisir un email valide.\")\n",
    "print(f\"Votre email est {email = }\") # valide python >= 3.8"
   ]
  }
 ],
 "metadata": {
  "kernelspec": {
   "display_name": "Python 3",
   "language": "python",
   "name": "python3"
  },
  "language_info": {
   "codemirror_mode": {
    "name": "ipython",
    "version": 3
   },
   "file_extension": ".py",
   "mimetype": "text/x-python",
   "name": "python",
   "nbconvert_exporter": "python",
   "pygments_lexer": "ipython3",
   "version": "3.9.7"
  }
 },
 "nbformat": 4,
 "nbformat_minor": 2
}
