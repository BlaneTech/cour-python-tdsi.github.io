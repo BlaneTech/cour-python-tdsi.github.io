{
 "cells": [
  {
   "cell_type": "markdown",
   "metadata": {},
   "source": [
    "<h1> Ecole Polytechnique de Thies</h1>  \n",
    "<h1> Cours d'introduction à Python</h1>    \n",
    "<h2> Enseignant : Dr. Michel SECK </h2>\n",
    "<h2>Email : mseck@ept.sn</h2>\n"
   ]
  },
  {
   "cell_type": "markdown",
   "metadata": {},
   "source": [
    "## <center> <h1> Partie I </h1></center>\n",
    "\n",
    " 1. Jupyter Notebook (Cellule ``Code``, ``Markdown``)\n",
    " 2. Introduction générale à Python\n",
    " 3. Variables\n",
    " 4. Types de base (``bult-in``) \n",
    " 5. Opérateurs + Opérations sur les types\n",
    " \n",
    " <center> <h1> Evaluation </h1></center>\n",
    " \n",
    " - Presque chaque cours (un test d'environ ``20mn``)\n",
    " - Travail de groupe (par deux ou individuel)\n",
    " - devoirs\n",
    " - Evaluation globale à la fin du cours\n",
    " \n",
    " <center> <h1> Matériel du cours </h1></center> \n",
    "\n",
    "- Installer Python `3.8` et Jupyter-notebook : \n",
    "\n",
    "    - [Distribution Anaconda3](https://www.anaconda.com/products/individual#Downloads) recommandée.\n",
    "    \n",
    "- Installer un IDE : \n",
    "\n",
    "    - [Visual Studio](https://www.visualstudio.com/fr/)\n",
    "    - [Visual Studio Code](https://code.visualstudio.com/)\n",
    "    - [PyCharm](https://www.jetbrains.com/pycharm/) (recommendé)\n",
    "    \n",
    "- Python au ``terminal`` (Unix) ou ``Ananconda Prompt`` (Windows):\n",
    "\n",
    "    - ``$ python``\n",
    "    - ``$ ipython``\n",
    "    \n",
    "- IDLE de Python (pas nécessaire)"
   ]
  },
  {
   "cell_type": "markdown",
   "metadata": {},
   "source": [
    "## I) Introduction générale à Python"
   ]
  },
  {
   "cell_type": "markdown",
   "metadata": {},
   "source": [
    "\n",
    "- Python est un langage de programmation \n",
    "    - puissant, \n",
    "    - facile à apprendre et à utiliser (simplicité),\n",
    "    - de typage dynamique,\n",
    "    - orienté objet,\n",
    "    - interprété, \n",
    "    - de syntaxe élégante (code lisible), \n",
    "    - gratuit\n",
    "    - de haut niveau,\n",
    "    - multiplateforme : `Windows, Mac OS X, Linux, Android, iOS`\n",
    "    - a une communauté qui s'augmente rapidement,\n",
    "    - crée par `Guido van Rossum` (en `1989`), aux Pays-Bas. La Première version publique a été publiée en `1991`\n",
    "\n",
    "\n",
    "    "
   ]
  },
  {
   "cell_type": "markdown",
   "metadata": {},
   "source": [
    "Site web de Python : <a href=\"https://python.org\"> python.org </a>"
   ]
  },
  {
   "cell_type": "markdown",
   "metadata": {},
   "source": [
    "<img src=\"images/python.png\">"
   ]
  },
  {
   "cell_type": "markdown",
   "metadata": {},
   "source": [
    "#  Utilisation de python\n",
    "- On peut utiliser Python pour diverses applications :  \n",
    "    - le développement web, \n",
    "    - le développement mobile,\n",
    "    - le développement d'interfaces graphiques, \n",
    "    - la science des données,\n",
    "    - les graphiques, \n",
    "    - le calcul numérique, \n",
    "    - l'intelligence artificielle,\n",
    "    - le calcul distribué\n",
    "    - ....\n",
    "    \n",
    "![100% center](./images/python_dom.png)"
   ]
  },
  {
   "cell_type": "markdown",
   "metadata": {},
   "source": [
    "#  Quelques organisations utilisant Python\n",
    "\n",
    "![100% center](./images/python_ent.png)"
   ]
  },
  {
   "cell_type": "markdown",
   "metadata": {},
   "source": [
    "#  Le Zen de Python par ``Tim Peters``\n"
   ]
  },
  {
   "cell_type": "code",
   "execution_count": 2,
   "metadata": {},
   "outputs": [],
   "source": [
    "import this"
   ]
  },
  {
   "cell_type": "markdown",
   "metadata": {},
   "source": [
    "# II) Environment Jupyter-Notebook\n"
   ]
  },
  {
   "cell_type": "markdown",
   "metadata": {},
   "source": [
    "- Fichier ``notebook``: extension ``.ipynb``\n",
    "- Pour lancer le serveur ``Jupyter-Notebook``, au terminal tapez : ``jupyter-notebook``\n",
    "- Pour ouvrier un fichier spécifique (exemple ``cours.ipynb``), au terminal, \n",
    "\n",
    "    tapez ``jupyter-notebook .... path/cours.ipynb``\n",
    "- Cellule ``Code python`` \n",
    "- Cellule ``Markdown`` : \n",
    "    - le [guide Markdown](https://www.markdownguide.org/getting-started/)\n",
    "    - le [langage Markdown](https://www.markdownguide.org/basic-syntax/)\n",
    "- Plusieurs commandes magiques : `% command`\n",
    "\n",
    "    **Exemple** :\n",
    "    - ``% whos`` : liste tous les objets (variables, ...) utilisés dans le notebook.\n",
    "    - `` % history`` :  liste toutes les commandes Python lancées dans un notebook.\n",
    "    - Voir [la documentation pour plus de détails](https://ipython.readthedocs.io/en/stable/interactive/magics.html)."
   ]
  },
  {
   "cell_type": "markdown",
   "metadata": {},
   "source": [
    "**Remarque :** Les environnements `Linux` ou `Mac OS X`, il est possible de lancer une `commande Unix` depuis un notebook Jupyter. Il faut pour cela précéder la commande du symbole `!`.\n",
    "\n",
    "**Exemples :**\n",
    "\n",
    "- ``! pwd`` : pour\n",
    "- ``! ls`` : pour lister les \n",
    "- ``! cd path`` : \n",
    "- ``! echo \"Command Unix\"``\n",
    "- ``! touch ficher.txt``"
   ]
  },
  {
   "cell_type": "code",
   "execution_count": 4,
   "metadata": {},
   "outputs": [],
   "source": [
    "! "
   ]
  },
  {
   "cell_type": "code",
   "execution_count": 1,
   "metadata": {},
   "outputs": [
    {
     "data": {
      "text/plain": [
       "'C:\\\\Users\\\\fallo\\\\Desktop\\\\CoursPython-TDSI'"
      ]
     },
     "execution_count": 1,
     "metadata": {},
     "output_type": "execute_result"
    }
   ],
   "source": [
    "pwd"
   ]
  },
  {
   "cell_type": "markdown",
   "metadata": {},
   "source": [
    "# III) Variables\n",
    "\n"
   ]
  },
  {
   "cell_type": "markdown",
   "metadata": {},
   "source": [
    "Opérateur d'affectation **en Python** est `\"=\"`\n",
    "\n",
    "`nom_variable = valeur_variable`\n",
    "\n",
    "## Exemple"
   ]
  },
  {
   "cell_type": "code",
   "execution_count": null,
   "metadata": {},
   "outputs": [],
   "source": [
    "x = 5\n",
    "y = 7 - x\n",
    "z = 2*x-x*x"
   ]
  },
  {
   "cell_type": "markdown",
   "metadata": {},
   "source": [
    "Il faut noter que `\"=\"` dans ce contexte n'exprime *pas* l'équivalence mathématique. \n"
   ]
  },
  {
   "cell_type": "markdown",
   "metadata": {},
   "source": [
    "## Type en Python : typage  dynamique\n",
    "\n",
    "- Dans certains langages de programmation (comme `C`), le type de chaque variable doit être \n",
    "   donné explicitement avant son utilisation (un processus appelé **déclaration**). \n",
    "- En `Python`, le type d'une variable est \n",
    "   déterminée automatiquement lorsqu'une valeur est affectée à une variable.  \n",
    "- Pour connaitre le type d'une variable en Python, on peut utiliser   ``type(...)``"
   ]
  },
  {
   "cell_type": "code",
   "execution_count": null,
   "metadata": {},
   "outputs": [],
   "source": [
    "x = 5\n",
    "a = 8"
   ]
  },
  {
   "cell_type": "code",
   "execution_count": null,
   "metadata": {},
   "outputs": [],
   "source": [
    "type(x)"
   ]
  },
  {
   "cell_type": "code",
   "execution_count": null,
   "metadata": {},
   "outputs": [],
   "source": [
    "x = 1/a\n",
    "type(x)"
   ]
  },
  {
   "cell_type": "code",
   "execution_count": null,
   "metadata": {},
   "outputs": [],
   "source": [
    "decim = 7.2\n",
    "decim"
   ]
  },
  {
   "cell_type": "code",
   "execution_count": null,
   "metadata": {},
   "outputs": [],
   "source": [
    "type(decim)"
   ]
  },
  {
   "cell_type": "markdown",
   "metadata": {},
   "source": [
    "# Noms de variables "
   ]
  },
  {
   "cell_type": "markdown",
   "metadata": {},
   "source": [
    "Il y a quelques règles pour les noms de variables à garder à l'esprit : \n",
    "\n",
    "* Ils sont composés (en général) de caractères *alphanumériques* (``a-z``,  ``A-Z``, ``0-9``) et le caractère de soulignement ``_``. Pour les dernières versions de Python (Python 3), les      caractères accentués sont acceptées. \n",
    "\n",
    "* Une variable ne peut pas *commencer* par un nombre, mais le nombre peut apparaître \n",
    "  n'importe où ailleurs. \n",
    "\n",
    "* Caractères inutilisables :  Caractères spéciaux tel que ``\\, $, %, !,.``  etc ne peuvent pas être utilisés, ni les virgules ``,``, points ``. `` ou  les tirets ``-``, car ils ont tous d'autres significations particulières.\n",
    "\n",
    "* Le nom d'une variable *ne peut pas* être ``un mot clef réservé`` tel que ``\"or\", \"and\", \"if\", \"def\"``, etc.   Il ne devrait pas non plus être un mot avec signification spéciale (\"int\", \"float\", \"complex\", \" type \", etc.) parce que la fonctionnalité de ces significations originales devrait être maintenue. \n",
    "\n",
    "<h3> Mots clefs</h3>\n",
    "\n",
    "```python\n",
    "\n",
    "  \n",
    "    False      await      else       import     pass\n",
    "    None       break      except     in         raise\n",
    "    True       class      finally    is         return\n",
    "    and        continue   for        lambda     try\n",
    "    as         def        from       nonlocal   while\n",
    "    assert     del        global     not        with\n",
    "    async      elif       if         or         yield\n",
    "    \n",
    "```\n",
    "\n",
    "* Les variables sont sensibles à la casse (en effet, tous les mots (clés ou non) en Python le sont). \n",
    "  En d'autres termes, Python fait la distinction entre majuscules et minuscules, de sorte que \n",
    "  \"message\", \"Message\" et \"meSSage\" sont trois variables différentes. \n",
    "\n",
    "   "
   ]
  },
  {
   "cell_type": "code",
   "execution_count": 2,
   "metadata": {},
   "outputs": [
    {
     "ename": "SyntaxError",
     "evalue": "invalid syntax (<ipython-input-2-822680bec68a>, line 1)",
     "output_type": "error",
     "traceback": [
      "\u001b[1;36m  File \u001b[1;32m\"<ipython-input-2-822680bec68a>\"\u001b[1;36m, line \u001b[1;32m1\u001b[0m\n\u001b[1;33m    is = 2\u001b[0m\n\u001b[1;37m    ^\u001b[0m\n\u001b[1;31mSyntaxError\u001b[0m\u001b[1;31m:\u001b[0m invalid syntax\n"
     ]
    }
   ],
   "source": [
    "is = 2"
   ]
  },
  {
   "cell_type": "code",
   "execution_count": 3,
   "metadata": {},
   "outputs": [
    {
     "ename": "SyntaxError",
     "evalue": "invalid syntax (<ipython-input-3-b29ae2d61be3>, line 1)",
     "output_type": "error",
     "traceback": [
      "\u001b[1;36m  File \u001b[1;32m\"<ipython-input-3-b29ae2d61be3>\"\u001b[1;36m, line \u001b[1;32m1\u001b[0m\n\u001b[1;33m    pass = 7\u001b[0m\n\u001b[1;37m         ^\u001b[0m\n\u001b[1;31mSyntaxError\u001b[0m\u001b[1;31m:\u001b[0m invalid syntax\n"
     ]
    }
   ],
   "source": [
    "pass = 7"
   ]
  },
  {
   "cell_type": "markdown",
   "metadata": {},
   "source": [
    "**Remarque :** N'oubliez pas de donner des noms de variables significatifs."
   ]
  },
  {
   "cell_type": "markdown",
   "metadata": {},
   "source": [
    "Une variable pour designer le rayon d'un cercle qui est égal à `2`."
   ]
  },
  {
   "cell_type": "code",
   "execution_count": null,
   "metadata": {},
   "outputs": [],
   "source": [
    "r = 2 \n",
    "rayon = 2  # mieux"
   ]
  },
  {
   "cell_type": "markdown",
   "metadata": {},
   "source": [
    "Une variable pour designer le nombre d'étudiants (total `16`)."
   ]
  },
  {
   "cell_type": "code",
   "execution_count": null,
   "metadata": {},
   "outputs": [],
   "source": [
    "n = 6"
   ]
  },
  {
   "cell_type": "code",
   "execution_count": null,
   "metadata": {},
   "outputs": [],
   "source": [
    "nbre_etudiants = 16  # mieux"
   ]
  },
  {
   "cell_type": "markdown",
   "metadata": {},
   "source": [
    "## Déclaration multiples"
   ]
  },
  {
   "cell_type": "code",
   "execution_count": null,
   "metadata": {},
   "outputs": [],
   "source": [
    "i, j = 2, 4"
   ]
  },
  {
   "cell_type": "code",
   "execution_count": null,
   "metadata": {},
   "outputs": [],
   "source": [
    "i"
   ]
  },
  {
   "cell_type": "code",
   "execution_count": null,
   "metadata": {},
   "outputs": [],
   "source": [
    "j"
   ]
  },
  {
   "cell_type": "code",
   "execution_count": 18,
   "metadata": {},
   "outputs": [
    {
     "name": "stdout",
     "output_type": "stream",
     "text": [
      "\n"
     ]
    }
   ],
   "source": [
    "###Exercice: Echanger les valeurs 'a' et 'b' avec\"\n",
    "    #a=2\n",
    "    #b=2\n",
    "a=2\n",
    "b=40\n",
    "c=a\n",
    "a=b\n",
    "b=c\n",
    "print()"
   ]
  },
  {
   "cell_type": "markdown",
   "metadata": {},
   "source": [
    "## Commentaires,  Affichage et Aide"
   ]
  },
  {
   "cell_type": "markdown",
   "metadata": {},
   "source": [
    "- Les commentaires commence par ``#``.\n",
    "\n",
    "- Pour afficher une variable, on peut utiliser la fonction ``print``.\n",
    "- Pour l'aide sur ``func``, on peut utiliser ``help(func)`` ou ``func?`` ou encore ``?func``.\n",
    "\n",
    "### Exemples"
   ]
  },
  {
   "cell_type": "code",
   "execution_count": 4,
   "metadata": {},
   "outputs": [
    {
     "name": "stdout",
     "output_type": "stream",
     "text": [
      "1 2 3\n"
     ]
    }
   ],
   "source": [
    "print(1,2,3)"
   ]
  },
  {
   "cell_type": "code",
   "execution_count": 6,
   "metadata": {},
   "outputs": [
    {
     "name": "stdout",
     "output_type": "stream",
     "text": [
      "Help on built-in function print in module builtins:\n",
      "\n",
      "print(...)\n",
      "    print(value, ..., sep=' ', end='\\n', file=sys.stdout, flush=False)\n",
      "    \n",
      "    Prints the values to a stream, or to sys.stdout by default.\n",
      "    Optional keyword arguments:\n",
      "    file:  a file-like object (stream); defaults to the current sys.stdout.\n",
      "    sep:   string inserted between values, default a space.\n",
      "    end:   string appended after the last value, default a newline.\n",
      "    flush: whether to forcibly flush the stream.\n",
      "\n"
     ]
    }
   ],
   "source": [
    "help(print)"
   ]
  },
  {
   "cell_type": "code",
   "execution_count": null,
   "metadata": {},
   "outputs": [],
   "source": [
    "# Aide pour la fonction ``print``\n",
    "print?"
   ]
  },
  {
   "cell_type": "code",
   "execution_count": null,
   "metadata": {},
   "outputs": [],
   "source": [
    "?print"
   ]
  },
  {
   "cell_type": "code",
   "execution_count": 9,
   "metadata": {},
   "outputs": [],
   "source": [
    "x2 = 9\n",
    "x3 = \" Hello\""
   ]
  },
  {
   "cell_type": "code",
   "execution_count": 10,
   "metadata": {},
   "outputs": [
    {
     "name": "stdout",
     "output_type": "stream",
     "text": [
      "9;  Hello\n"
     ]
    }
   ],
   "source": [
    "print(x2, x3, sep=\"; \")\n"
   ]
  },
  {
   "cell_type": "code",
   "execution_count": 11,
   "metadata": {},
   "outputs": [
    {
     "name": "stdout",
     "output_type": "stream",
     "text": [
      "9;  Hello\n",
      "9;  Hello : "
     ]
    }
   ],
   "source": [
    "print(x2, x3, sep=\"; \", end=\"\\n\")\n",
    "print(x2, x3, sep=\"; \", end=\" : \")"
   ]
  },
  {
   "cell_type": "markdown",
   "metadata": {},
   "source": [
    "# IV) Types de base (``built-in``) : \n",
    "- ``bool, int, float, str, tuple, list, set, dict``\n",
    "\n",
    "**Remarque :** Pour connaitre le type d'une variable nommée ``var_a``, éxécuté``type(var_a)``."
   ]
  },
  {
   "cell_type": "markdown",
   "metadata": {},
   "source": [
    "## Les entiers : ``int``\n"
   ]
  },
  {
   "cell_type": "code",
   "execution_count": 15,
   "metadata": {},
   "outputs": [
    {
     "data": {
      "text/plain": [
       "4"
      ]
     },
     "execution_count": 15,
     "metadata": {},
     "output_type": "execute_result"
    }
   ],
   "source": [
    "n = 4;\n",
    "n"
   ]
  },
  {
   "cell_type": "code",
   "execution_count": 14,
   "metadata": {},
   "outputs": [
    {
     "data": {
      "text/plain": [
       "int"
      ]
     },
     "execution_count": 14,
     "metadata": {},
     "output_type": "execute_result"
    }
   ],
   "source": [
    "type(n)"
   ]
  },
  {
   "cell_type": "markdown",
   "metadata": {},
   "source": [
    "## Les nombres floatants : ``float``"
   ]
  },
  {
   "cell_type": "code",
   "execution_count": 17,
   "metadata": {},
   "outputs": [],
   "source": [
    "rayon = 3.4\n",
    "v = 2."
   ]
  },
  {
   "cell_type": "code",
   "execution_count": 18,
   "metadata": {},
   "outputs": [
    {
     "data": {
      "text/plain": [
       "2.0"
      ]
     },
     "execution_count": 18,
     "metadata": {},
     "output_type": "execute_result"
    }
   ],
   "source": [
    "v"
   ]
  },
  {
   "cell_type": "code",
   "execution_count": null,
   "metadata": {},
   "outputs": [],
   "source": [
    "type(v)"
   ]
  },
  {
   "cell_type": "code",
   "execution_count": null,
   "metadata": {},
   "outputs": [],
   "source": [
    "largeur  = 3 + 5.1"
   ]
  },
  {
   "cell_type": "code",
   "execution_count": null,
   "metadata": {},
   "outputs": [],
   "source": [
    "type(largeur)"
   ]
  },
  {
   "cell_type": "code",
   "execution_count": null,
   "metadata": {},
   "outputs": [],
   "source": [
    "b = .5;\n",
    "b"
   ]
  },
  {
   "cell_type": "markdown",
   "metadata": {},
   "source": [
    "## Les chaines de caractères (string en anglais : ``str``)\n",
    "\n",
    "Les chaines de caractères sont délimitées par\n",
    "\n",
    "   - des guillements simples ``'....'`` ou \n",
    "   - des guillements doubles ``\"....\"``.\n",
    "   "
   ]
  },
  {
   "cell_type": "code",
   "execution_count": null,
   "metadata": {},
   "outputs": [],
   "source": [
    "salutation = \"Bonjour tout le monde\"; salutation"
   ]
  },
  {
   "cell_type": "code",
   "execution_count": null,
   "metadata": {},
   "outputs": [],
   "source": [
    "type(salutation)"
   ]
  },
  {
   "cell_type": "markdown",
   "metadata": {},
   "source": [
    "**Remarque** : Si une chaine est délimitée par des guillements doubles ``\"....\"``, vous pouvez utiliser à l'intérieur de la chaine des guillements simples ``'....'``."
   ]
  },
  {
   "cell_type": "code",
   "execution_count": null,
   "metadata": {},
   "outputs": [],
   "source": [
    "aibd = 'L\\'Aéroport International Blaise Diagne'\n",
    "print(aibd)"
   ]
  },
  {
   "cell_type": "markdown",
   "metadata": {},
   "source": [
    "Une chaine sur plusieurs lignes"
   ]
  },
  {
   "cell_type": "code",
   "execution_count": 19,
   "metadata": {},
   "outputs": [],
   "source": [
    "tdsi= \"\"\"\n",
    "    Fallou\n",
    "    Gallas\n",
    "    Bayou\n",
    "    Mbene\n",
    "\"\"\""
   ]
  },
  {
   "cell_type": "code",
   "execution_count": 21,
   "metadata": {},
   "outputs": [
    {
     "name": "stdout",
     "output_type": "stream",
     "text": [
      "\n",
      "    Fallou\n",
      "    Gallas\n",
      "    Bayou\n",
      "    Mbene\n",
      "\n"
     ]
    }
   ],
   "source": [
    "print(tdsi)"
   ]
  },
  {
   "cell_type": "markdown",
   "metadata": {},
   "source": [
    "## Les tuples : ``tuple``\n",
    "\n",
    "Les `tuples` sont des collections  délimitées par des parenthèses ``(elt1, elt2, .... eltn)``.\n",
    "\n",
    "**Remarque**:\n",
    "\n",
    "- Il faut au moins une virgule dans les parenthèses pour un tuple non vide.\n",
    "- On peut même omettre les parenthèses i.e ``elt1, elt2, .... eltn``.\n",
    "- Tuple vide : ``()`` ou ``tuple()``.\n",
    "- L'ordre des élements compte."
   ]
  },
  {
   "cell_type": "code",
   "execution_count": 1,
   "metadata": {},
   "outputs": [],
   "source": [
    "(a, b) = (2, 5)"
   ]
  },
  {
   "cell_type": "code",
   "execution_count": 2,
   "metadata": {},
   "outputs": [
    {
     "data": {
      "text/plain": [
       "(1, 2, 10, 2.3, 'a', 'c')"
      ]
     },
     "execution_count": 2,
     "metadata": {},
     "output_type": "execute_result"
    }
   ],
   "source": [
    "serie1 = (1, 2, 10, 2.3, \"a\", \"c\")\n",
    "serie1"
   ]
  },
  {
   "cell_type": "code",
   "execution_count": null,
   "metadata": {},
   "outputs": [],
   "source": [
    "serie2 = (3, 5, \"a\", (1, 5.1))\n",
    "serie2"
   ]
  },
  {
   "cell_type": "markdown",
   "metadata": {},
   "source": [
    "**Exo**: Un tupe qui contient que la chaine `\"DIC1\"`"
   ]
  },
  {
   "cell_type": "code",
   "execution_count": 27,
   "metadata": {},
   "outputs": [],
   "source": [
    "tuple=(3,)"
   ]
  },
  {
   "cell_type": "code",
   "execution_count": 28,
   "metadata": {},
   "outputs": [
    {
     "data": {
      "text/plain": [
       "tuple"
      ]
     },
     "execution_count": 28,
     "metadata": {},
     "output_type": "execute_result"
    }
   ],
   "source": [
    "type(tuple)"
   ]
  },
  {
   "cell_type": "markdown",
   "metadata": {},
   "source": [
    "**Remarque** Notez que tout élément d'un tuple peut être de n'importe quel type (``\"int\", \"float\", \"str\", \"tuple\",`` etc)"
   ]
  },
  {
   "cell_type": "code",
   "execution_count": 20,
   "metadata": {},
   "outputs": [
    {
     "data": {
      "text/plain": [
       "()"
      ]
     },
     "execution_count": 20,
     "metadata": {},
     "output_type": "execute_result"
    }
   ],
   "source": [
    "# tuple vide\n",
    "tuple_vide = tuple() # ()\n",
    "tuple_vide"
   ]
  },
  {
   "cell_type": "code",
   "execution_count": null,
   "metadata": {},
   "outputs": [],
   "source": [
    "coord = (2, )\n",
    "coord"
   ]
  },
  {
   "cell_type": "markdown",
   "metadata": {},
   "source": [
    "## Les listes : ``list``\n",
    "\n",
    "Les `listes` sont des collections  délimitées par des crochets ``[elt1, elt2, .... eltn]``.\n",
    "\n",
    "**Remarque**:\n",
    "\n",
    "- Liste vide : ``[]`` ou ``list()``.\n",
    "- L'ordre des élements compte."
   ]
  },
  {
   "cell_type": "code",
   "execution_count": null,
   "metadata": {},
   "outputs": [],
   "source": [
    "liste_alphabet = [\"A\", \"B\", \"C\", \"D\", \"E\"]\n",
    "liste_alphabet"
   ]
  },
  {
   "cell_type": "markdown",
   "metadata": {},
   "source": [
    "**Remarque** : Comme les tuples, tout élément d'une liste peut être de n'importe quel type (`\"int\", \"float\", \"str\", \"tuple\", \"list\"`, etc)"
   ]
  },
  {
   "cell_type": "code",
   "execution_count": 78,
   "metadata": {},
   "outputs": [
    {
     "data": {
      "text/plain": [
       "[1, 2.3, 4.0, 'A', 'B', ['A', 'B', 'C', 'D', 'E'], (1, 2, 3)]"
      ]
     },
     "execution_count": 78,
     "metadata": {},
     "output_type": "execute_result"
    }
   ],
   "source": [
    "liste2 = [1, 2.3, 4., \"A\", \"B\", [\"A\", \"B\", \"C\", \"D\", \"E\"], (1,2,3)]\n",
    "liste2"
   ]
  },
  {
   "cell_type": "markdown",
   "metadata": {},
   "source": [
    "## Les ensembles : ``set``\n",
    "\n",
    "Les `ensembles` sont des collections  délimitées par des accolades \n",
    "\n",
    "``{elt1, elt2, .... eltn}``.\n",
    "\n",
    "**Remarque** :\n",
    "\n",
    "- Ensemble vide :  ``set()``.\n",
    "- L'ordre des élements `ne compte pas`.\n"
   ]
  },
  {
   "cell_type": "code",
   "execution_count": 74,
   "metadata": {},
   "outputs": [
    {
     "ename": "SyntaxError",
     "evalue": "invalid syntax (<ipython-input-74-15338abac2e8>, line 2)",
     "output_type": "error",
     "traceback": [
      "\u001b[1;36m  File \u001b[1;32m\"<ipython-input-74-15338abac2e8>\"\u001b[1;36m, line \u001b[1;32m2\u001b[0m\n\u001b[1;33m    E1{1}\u001b[0m\n\u001b[1;37m      ^\u001b[0m\n\u001b[1;31mSyntaxError\u001b[0m\u001b[1;31m:\u001b[0m invalid syntax\n"
     ]
    }
   ],
   "source": [
    "E1 = {1,2,3,4,5,6,7,7,8,9,9}\n",
    "E1"
   ]
  },
  {
   "cell_type": "code",
   "execution_count": null,
   "metadata": {},
   "outputs": [],
   "source": [
    "E2 = {6,7,7,8,9,1,2,3,4,5,2}\n",
    "E2"
   ]
  },
  {
   "cell_type": "code",
   "execution_count": 21,
   "metadata": {},
   "outputs": [
    {
     "data": {
      "text/plain": [
       "set()"
      ]
     },
     "execution_count": 21,
     "metadata": {},
     "output_type": "execute_result"
    }
   ],
   "source": [
    "set()"
   ]
  },
  {
   "cell_type": "markdown",
   "metadata": {},
   "source": [
    "## Les dictionnaires : ``dict``"
   ]
  },
  {
   "cell_type": "markdown",
   "metadata": {},
   "source": [
    "Les dictionnaires ressemblent aux `objets` en `Javascript`, ils sont délimitées par des accolades, cependant les élements sont sous la forme  `clé : valeur`\n",
    "\n",
    "### Syntaxe\n",
    "\n",
    "dico = {cle1: valeur1, cle2: valeur2, .... , cle_n: val_n}\n",
    "\n",
    "**Remarque :** \n",
    "\n",
    "* dictionnaire vide : `{}` ou `dict()`\n",
    "* les valeurs peuvent être de n'importe quel type (\"int\", \"float\", \"str\", \"tuple\", \"list\", etc). \n",
    "\n",
    "* les clés aussi peuvent être (en général) de n'importe quel type (\"int\", \"float\", \"str\", \"tuple\") avec **certaines restrictions**. Par exemple, les clés ne peuvent pas par contre être une liste ou un dictionnaire\n",
    "\n",
    "### Exemples"
   ]
  },
  {
   "cell_type": "code",
   "execution_count": null,
   "metadata": {},
   "outputs": [],
   "source": [
    "dico1 = {\"A\" : 0, \"B\": 1, \"C\": 1}\n",
    "dico1"
   ]
  },
  {
   "cell_type": "code",
   "execution_count": 22,
   "metadata": {},
   "outputs": [
    {
     "data": {
      "text/plain": [
       "{'D': 3, 2: '2', 9: [1, 2, 3], (1, 2, 3): 4, 'dic': {1: 1, 'F': 6}}"
      ]
     },
     "execution_count": 22,
     "metadata": {},
     "output_type": "execute_result"
    }
   ],
   "source": [
    "dico2 = {\"D\": 3, 2: \"2\", 9: [1,2,3], (1,2,3): 4, \"dic\": {1:1, \"F\": 6}}\n",
    "dico2"
   ]
  },
  {
   "cell_type": "code",
   "execution_count": null,
   "metadata": {},
   "outputs": [],
   "source": [
    "dico3 = {\"D\": 3, 2: \"2\", 9: [1,2,3], [1,2,3]: 4}"
   ]
  },
  {
   "cell_type": "code",
   "execution_count": 70,
   "metadata": {},
   "outputs": [
    {
     "name": "stdout",
     "output_type": "stream",
     "text": [
      "{'A': 0, 'B': 1, 'C': 2, 'D': 3, 'E': 4, 'F': 5, 'G': 6, 'H': 7, 'I': 8}\n"
     ]
    }
   ],
   "source": [
    "dicoAlphabet = {\"A\": 0, \"B\": 1,\"C\": 2, \"D\": 3, \"E\": 4,\"F\": 5,\"G\": 6,\"H\": 7, \"I\": 8}\n",
    "print(dicoAlphabet)"
   ]
  },
  {
   "cell_type": "markdown",
   "metadata": {},
   "source": [
    "# V) Opérateurs + Opérations sur les types"
   ]
  },
  {
   "cell_type": "markdown",
   "metadata": {},
   "source": [
    "# V-1. Conversion de types"
   ]
  },
  {
   "cell_type": "markdown",
   "metadata": {},
   "source": [
    "## Conversion en `int` :  `int(...)`"
   ]
  },
  {
   "cell_type": "code",
   "execution_count": null,
   "metadata": {},
   "outputs": [],
   "source": [
    "type(int)"
   ]
  },
  {
   "cell_type": "code",
   "execution_count": 26,
   "metadata": {},
   "outputs": [],
   "source": [
    "y=2.9"
   ]
  },
  {
   "cell_type": "code",
   "execution_count": 27,
   "metadata": {},
   "outputs": [
    {
     "data": {
      "text/plain": [
       "2"
      ]
     },
     "execution_count": 27,
     "metadata": {},
     "output_type": "execute_result"
    }
   ],
   "source": [
    "int(y)"
   ]
  },
  {
   "cell_type": "code",
   "execution_count": 28,
   "metadata": {},
   "outputs": [],
   "source": [
    "a=\"67\"\n"
   ]
  },
  {
   "cell_type": "code",
   "execution_count": 29,
   "metadata": {},
   "outputs": [
    {
     "data": {
      "text/plain": [
       "str"
      ]
     },
     "execution_count": 29,
     "metadata": {},
     "output_type": "execute_result"
    }
   ],
   "source": [
    "type(a)"
   ]
  },
  {
   "cell_type": "code",
   "execution_count": 31,
   "metadata": {},
   "outputs": [
    {
     "data": {
      "text/plain": [
       "67"
      ]
     },
     "execution_count": 31,
     "metadata": {},
     "output_type": "execute_result"
    }
   ],
   "source": [
    "int(a)"
   ]
  },
  {
   "cell_type": "code",
   "execution_count": null,
   "metadata": {},
   "outputs": [],
   "source": [
    "int([1])"
   ]
  },
  {
   "cell_type": "markdown",
   "metadata": {},
   "source": [
    "## Conversion en `float` :  `float(...)`"
   ]
  },
  {
   "cell_type": "code",
   "execution_count": 32,
   "metadata": {},
   "outputs": [],
   "source": [
    "v=7"
   ]
  },
  {
   "cell_type": "code",
   "execution_count": 33,
   "metadata": {},
   "outputs": [
    {
     "data": {
      "text/plain": [
       "7.0"
      ]
     },
     "execution_count": 33,
     "metadata": {},
     "output_type": "execute_result"
    }
   ],
   "source": [
    "float(v)"
   ]
  },
  {
   "cell_type": "code",
   "execution_count": 34,
   "metadata": {},
   "outputs": [
    {
     "data": {
      "text/plain": [
       "0.0"
      ]
     },
     "execution_count": 34,
     "metadata": {},
     "output_type": "execute_result"
    }
   ],
   "source": [
    "float(\"00\")"
   ]
  },
  {
   "cell_type": "markdown",
   "metadata": {},
   "source": [
    "## Conversion en `string`  : `str(...)`"
   ]
  },
  {
   "cell_type": "markdown",
   "metadata": {},
   "source": [
    "**remarque** : ``input``"
   ]
  },
  {
   "cell_type": "code",
   "execution_count": 35,
   "metadata": {},
   "outputs": [
    {
     "name": "stdout",
     "output_type": "stream",
     "text": [
      "Madame: Donner un entier5\n"
     ]
    },
    {
     "data": {
      "text/plain": [
       "5"
      ]
     },
     "execution_count": 35,
     "metadata": {},
     "output_type": "execute_result"
    }
   ],
   "source": [
    "int(input(\"Madame: Donner un entier\"))"
   ]
  },
  {
   "cell_type": "code",
   "execution_count": 36,
   "metadata": {},
   "outputs": [
    {
     "data": {
      "text/plain": [
       "'6'"
      ]
     },
     "execution_count": 36,
     "metadata": {},
     "output_type": "execute_result"
    }
   ],
   "source": [
    "str(6)"
   ]
  },
  {
   "cell_type": "code",
   "execution_count": 37,
   "metadata": {},
   "outputs": [
    {
     "data": {
      "text/plain": [
       "'(6, 8)'"
      ]
     },
     "execution_count": 37,
     "metadata": {},
     "output_type": "execute_result"
    }
   ],
   "source": [
    "str((6,8))"
   ]
  },
  {
   "cell_type": "markdown",
   "metadata": {},
   "source": [
    "**Remarque** : La fonction 'eval'"
   ]
  },
  {
   "cell_type": "code",
   "execution_count": 67,
   "metadata": {},
   "outputs": [
    {
     "name": "stdout",
     "output_type": "stream",
     "text": [
      "Entrer qqch'fallou'\n",
      "fallou <class 'str'>\n"
     ]
    }
   ],
   "source": [
    "my_input = eval(input(\"Entrer qqch\"))\n",
    "print(my_input,type(my_input))"
   ]
  },
  {
   "cell_type": "markdown",
   "metadata": {},
   "source": [
    "## Conversion en `Tuple` et `Liste` :  `tuple(...)` et `list(...)`"
   ]
  },
  {
   "cell_type": "code",
   "execution_count": 2,
   "metadata": {},
   "outputs": [],
   "source": [
    "chaine=\"je vous aime\""
   ]
  },
  {
   "cell_type": "code",
   "execution_count": 3,
   "metadata": {},
   "outputs": [
    {
     "data": {
      "text/plain": [
       "['j', 'e', ' ', 'v', 'o', 'u', 's', ' ', 'a', 'i', 'm', 'e']"
      ]
     },
     "execution_count": 3,
     "metadata": {},
     "output_type": "execute_result"
    }
   ],
   "source": [
    "list(chaine)"
   ]
  },
  {
   "cell_type": "code",
   "execution_count": 16,
   "metadata": {},
   "outputs": [
    {
     "data": {
      "text/plain": [
       "('j', 'e', ' ', 'v', 'o', 'u', 's', ' ', 'a', 'i', 'm', 'e')"
      ]
     },
     "execution_count": 16,
     "metadata": {},
     "output_type": "execute_result"
    }
   ],
   "source": [
    "tuple(chaine)"
   ]
  },
  {
   "cell_type": "code",
   "execution_count": null,
   "metadata": {},
   "outputs": [],
   "source": [
    "L = (1, 2 , 4, 6, 9)"
   ]
  },
  {
   "cell_type": "code",
   "execution_count": null,
   "metadata": {},
   "outputs": [],
   "source": [
    "T = list(L); T"
   ]
  },
  {
   "cell_type": "code",
   "execution_count": null,
   "metadata": {},
   "outputs": [],
   "source": [
    "list(T)"
   ]
  },
  {
   "cell_type": "markdown",
   "metadata": {},
   "source": [
    "## Conversion en `dictionnaire` :  `dict(...)`\n",
    "\n",
    "- Une séquence de paire de valeurs"
   ]
  },
  {
   "cell_type": "code",
   "execution_count": 38,
   "metadata": {},
   "outputs": [],
   "source": [
    "L=((1, \"un\"), (5, \"5\"), (\"Hello\", \"Bonjour\"))"
   ]
  },
  {
   "cell_type": "code",
   "execution_count": 39,
   "metadata": {},
   "outputs": [
    {
     "data": {
      "text/plain": [
       "{1: 'un', 5: '5', 'Hello': 'Bonjour'}"
      ]
     },
     "execution_count": 39,
     "metadata": {},
     "output_type": "execute_result"
    }
   ],
   "source": [
    "dict(L)"
   ]
  },
  {
   "cell_type": "code",
   "execution_count": null,
   "metadata": {},
   "outputs": [],
   "source": []
  },
  {
   "cell_type": "markdown",
   "metadata": {},
   "source": [
    "## Conversion en `Booléen` :  `bool(...)`\n",
    "\n",
    "`bool(var)`: renvoie `False` si `var` est une variable de type\n",
    "\n",
    "- `int` nul\n",
    "- `float` nul\n",
    "- `str` vide\n",
    "- `tuple` vide\n",
    "- `list` vide\n",
    "- `set` vide\n",
    "- `dict` vide\n",
    "- etc \n",
    "\n",
    "`bool(var)` retoune `True` dans le cas contraire"
   ]
  },
  {
   "cell_type": "code",
   "execution_count": null,
   "metadata": {},
   "outputs": [],
   "source": [
    "bool(0)"
   ]
  },
  {
   "cell_type": "code",
   "execution_count": null,
   "metadata": {},
   "outputs": [],
   "source": [
    "bool(77654)"
   ]
  },
  {
   "cell_type": "code",
   "execution_count": null,
   "metadata": {},
   "outputs": [],
   "source": [
    "bool({})"
   ]
  },
  {
   "cell_type": "code",
   "execution_count": 21,
   "metadata": {},
   "outputs": [
    {
     "data": {
      "text/plain": [
       "True"
      ]
     },
     "execution_count": 21,
     "metadata": {},
     "output_type": "execute_result"
    }
   ],
   "source": [
    "bool(\"set()\")"
   ]
  },
  {
   "cell_type": "code",
   "execution_count": 22,
   "metadata": {},
   "outputs": [
    {
     "data": {
      "text/plain": [
       "False"
      ]
     },
     "execution_count": 22,
     "metadata": {},
     "output_type": "execute_result"
    }
   ],
   "source": [
    "bool(\"\")"
   ]
  },
  {
   "cell_type": "code",
   "execution_count": 29,
   "metadata": {},
   "outputs": [
    {
     "ename": "SyntaxError",
     "evalue": "unexpected EOF while parsing (<ipython-input-29-8d26ba6227ff>, line 1)",
     "output_type": "error",
     "traceback": [
      "\u001b[1;36m  File \u001b[1;32m\"<ipython-input-29-8d26ba6227ff>\"\u001b[1;36m, line \u001b[1;32m1\u001b[0m\n\u001b[1;33m    if 6:\u001b[0m\n\u001b[1;37m         ^\u001b[0m\n\u001b[1;31mSyntaxError\u001b[0m\u001b[1;31m:\u001b[0m unexpected EOF while parsing\n"
     ]
    }
   ],
   "source": [
    "if 6:"
   ]
  },
  {
   "cell_type": "markdown",
   "metadata": {},
   "source": [
    "# V-2. opérations sur des variables de type `int` ou  `float`\n"
   ]
  },
  {
   "cell_type": "markdown",
   "metadata": {},
   "source": [
    "# Opérateurs\n",
    "\n",
    "    +       -       *       **      /       //      %      \n",
    "\n",
    "\n"
   ]
  },
  {
   "cell_type": "code",
   "execution_count": 30,
   "metadata": {},
   "outputs": [
    {
     "name": "stdout",
     "output_type": "stream",
     "text": [
      "x=;2;y=;7.3;z=;16.6;xcarre=;4\n"
     ]
    }
   ],
   "source": [
    "x = 2\n",
    "y = 7.3\n",
    "z = x + 2*y\n",
    "xcarre = x**2\n",
    "print(\"x=\", x, \"y=\", y, \"z=\", z, \"xcarre=\",xcarre, sep=\";\")"
   ]
  },
  {
   "cell_type": "code",
   "execution_count": null,
   "metadata": {},
   "outputs": [],
   "source": [
    "x_demi = x / 2\n",
    "print(\"x_demi = \", x_demi)\n",
    "x_demi_prime = x // 2\n",
    "print(\"x_demi_prime = \", x_demi_prime)"
   ]
  },
  {
   "cell_type": "code",
   "execution_count": null,
   "metadata": {},
   "outputs": [],
   "source": [
    "# Reste d'une division: Calcul modulo (%)\n",
    "\n",
    "N = 26\n",
    "\n",
    "# soit à calculer ... mod N\n",
    "\n",
    "mes = 66 % N\n",
    "print(\"mes = \", mes)"
   ]
  },
  {
   "cell_type": "code",
   "execution_count": null,
   "metadata": {},
   "outputs": [],
   "source": [
    "6667"
   ]
  },
  {
   "cell_type": "code",
   "execution_count": null,
   "metadata": {},
   "outputs": [],
   "source": []
  },
  {
   "cell_type": "markdown",
   "metadata": {},
   "source": [
    "# V-3. Indices et Slicing (str, tuple, list)"
   ]
  },
  {
   "cell_type": "markdown",
   "metadata": {},
   "source": [
    "Supposons que **var** est une chaine de caractère, un tuple, ou une liste et **i** un an\n",
    "\n",
    "* `var[i]` : renvoie l'élément qui est à la position **i + 1** s'il existe; dans le cas contraire une erreur de type **IndexError** sera levée.\n",
    "* `len(var)` : renvoie le nombre d'éléments\n",
    "\n",
    "Il faut noter qu'en Python, on commence la numérotation en *0*"
   ]
  },
  {
   "cell_type": "code",
   "execution_count": 42,
   "metadata": {},
   "outputs": [],
   "source": [
    "chaine = \"La transmission des données et la sécurité de l'information\"\n",
    "mon_tuple = (\"A\", \"B\", \"C\", 'D', 'E', 1, 3, 5.2, (3, 6), [1,2,3], 9)\n",
    "ma_liste = [\"Moussa\", \"Ba\", \"TSIU\", \"@\", \"crypto\", (0, 2.2, 8), [3, \"UCAD\"], \"last\"]"
   ]
  },
  {
   "cell_type": "code",
   "execution_count": 43,
   "metadata": {},
   "outputs": [
    {
     "name": "stdout",
     "output_type": "stream",
     "text": [
      "59 11 8\n"
     ]
    }
   ],
   "source": [
    "print(len(chaine), len(mon_tuple), len(ma_liste))"
   ]
  },
  {
   "cell_type": "code",
   "execution_count": 33,
   "metadata": {},
   "outputs": [
    {
     "data": {
      "text/plain": [
       "[1, 2, 3]"
      ]
     },
     "execution_count": 33,
     "metadata": {},
     "output_type": "execute_result"
    }
   ],
   "source": [
    "mon_tuple[-2]"
   ]
  },
  {
   "cell_type": "code",
   "execution_count": 44,
   "metadata": {},
   "outputs": [
    {
     "data": {
      "text/plain": [
       "'L'"
      ]
     },
     "execution_count": 44,
     "metadata": {},
     "output_type": "execute_result"
    }
   ],
   "source": [
    "chaine[0]"
   ]
  },
  {
   "cell_type": "code",
   "execution_count": null,
   "metadata": {},
   "outputs": [],
   "source": [
    "chaine[5]"
   ]
  },
  {
   "cell_type": "code",
   "execution_count": null,
   "metadata": {},
   "outputs": [],
   "source": [
    "mon_tuple[0]"
   ]
  },
  {
   "cell_type": "code",
   "execution_count": null,
   "metadata": {},
   "outputs": [],
   "source": [
    "mon_tuple[8]"
   ]
  },
  {
   "cell_type": "code",
   "execution_count": null,
   "metadata": {},
   "outputs": [],
   "source": [
    "ma_liste[0]"
   ]
  },
  {
   "cell_type": "code",
   "execution_count": null,
   "metadata": {},
   "outputs": [],
   "source": [
    "ma_liste[7]"
   ]
  },
  {
   "cell_type": "code",
   "execution_count": null,
   "metadata": {},
   "outputs": [],
   "source": [
    "ma_liste[10]"
   ]
  },
  {
   "cell_type": "markdown",
   "metadata": {},
   "source": [
    "Indices avec des entiers négatifs\n",
    "\n",
    "* `var[-1]` : renvoie le dernier élément (s'il existe)\n",
    "* `var[-2]` : renvoie l'avant dernier élément (s'il existe)\n",
    "* et ainsi de suite"
   ]
  },
  {
   "cell_type": "code",
   "execution_count": null,
   "metadata": {},
   "outputs": [],
   "source": [
    "ma_liste[-1]"
   ]
  },
  {
   "cell_type": "code",
   "execution_count": null,
   "metadata": {},
   "outputs": [],
   "source": [
    "chaine[-2]"
   ]
  },
  {
   "cell_type": "code",
   "execution_count": null,
   "metadata": {},
   "outputs": [],
   "source": [
    "mon_tuple[-2]"
   ]
  },
  {
   "cell_type": "markdown",
   "metadata": {},
   "source": [
    "## **Remarque**:\n",
    "\n",
    "## Si **var** est une chaine de caractère\n",
    "\n",
    "* `var[debut: fin: pas]` : renvoie une sous chaine de  **var** qui est la concaténation des caractères aux positions allant de **debut** à **fin - 1** avec pas **pas**\n",
    "\n",
    "## Si **var** est un tuple (ou une liste)\n",
    "\n",
    "* `var[debut: fin: pas]` : renvoie le tuple (ou la liste) des éléments de **var**  aux positions allant de **debut** à **fin - 1** avec pas **pas**\n",
    "\n",
    "NB: \n",
    "\n",
    "\n",
    "* Si **debut** n'est pas précisé, il est égal à 0\n",
    "* Si **fin** n'est pas précisé, il est égal au nombre d'éléments de **var**\n",
    "* Si **pas** (ou **:pas** ) n'est pas précisé, il est égal à 1"
   ]
  },
  {
   "cell_type": "code",
   "execution_count": 54,
   "metadata": {},
   "outputs": [],
   "source": [
    "ch = \"TRANSMISSION DES DONNEES\"\n",
    "T = (\"A\", 3, 5.2, (3, 6), [1,2,3], 9)\n",
    "L = [\"Moussa\", \"@\", \"crypto\", (0, 2.2, 8), [3, \"UCAD\"], \"last\"]"
   ]
  },
  {
   "cell_type": "code",
   "execution_count": 55,
   "metadata": {},
   "outputs": [
    {
     "name": "stdout",
     "output_type": "stream",
     "text": [
      "24\n"
     ]
    },
    {
     "data": {
      "text/plain": [
       "'TRANS'"
      ]
     },
     "execution_count": 55,
     "metadata": {},
     "output_type": "execute_result"
    }
   ],
   "source": [
    "print(len(ch))\n",
    "ch[0:5:1]\n"
   ]
  },
  {
   "cell_type": "code",
   "execution_count": 56,
   "metadata": {},
   "outputs": [
    {
     "data": {
      "text/plain": [
       "'TNII SOE'"
      ]
     },
     "execution_count": 56,
     "metadata": {},
     "output_type": "execute_result"
    }
   ],
   "source": [
    "ch[0::3]"
   ]
  },
  {
   "cell_type": "code",
   "execution_count": 57,
   "metadata": {},
   "outputs": [
    {
     "data": {
      "text/plain": [
       "['Moussa', 'crypto', [3, 'UCAD']]"
      ]
     },
     "execution_count": 57,
     "metadata": {},
     "output_type": "execute_result"
    }
   ],
   "source": [
    "L[0: 5: 2]"
   ]
  },
  {
   "cell_type": "code",
   "execution_count": 39,
   "metadata": {},
   "outputs": [
    {
     "data": {
      "text/plain": [
       "['Moussa', '@', 'crypto']"
      ]
     },
     "execution_count": 39,
     "metadata": {},
     "output_type": "execute_result"
    }
   ],
   "source": [
    "L[0:3]"
   ]
  },
  {
   "cell_type": "code",
   "execution_count": 40,
   "metadata": {},
   "outputs": [],
   "source": [
    "L = \"DICDEEPT\""
   ]
  },
  {
   "cell_type": "code",
   "execution_count": 41,
   "metadata": {},
   "outputs": [
    {
     "data": {
      "text/plain": [
       "'PT'"
      ]
     },
     "execution_count": 41,
     "metadata": {},
     "output_type": "execute_result"
    }
   ],
   "source": [
    "L[-2 :]"
   ]
  },
  {
   "cell_type": "code",
   "execution_count": 42,
   "metadata": {},
   "outputs": [
    {
     "data": {
      "text/plain": [
       "'DICDEEPT'"
      ]
     },
     "execution_count": 42,
     "metadata": {},
     "output_type": "execute_result"
    }
   ],
   "source": [
    "L[:]"
   ]
  },
  {
   "cell_type": "markdown",
   "metadata": {},
   "source": [
    "Opérateurs **in** et **not in**\n",
    "\n",
    "* `x in sequence` : renvoie **True** si l'élément `x` est dans **sequence** et **False** dans le cas contraire\n",
    "* `x not in sequence` : renvoie **True** si l'élément `x` n'est pas dans **sequence** et **False** dans le cas contraire"
   ]
  },
  {
   "cell_type": "code",
   "execution_count": 43,
   "metadata": {},
   "outputs": [],
   "source": [
    "T1 = (\"A\", 3, 5.2, (3, 6), [1,2,3], 9)\n",
    "L1 = [\"Moussa\", \"@\", \"crypto\", (0, 2.2, 8), [3, \"UCAD\"], \"last\"]"
   ]
  },
  {
   "cell_type": "code",
   "execution_count": 44,
   "metadata": {},
   "outputs": [
    {
     "data": {
      "text/plain": [
       "True"
      ]
     },
     "execution_count": 44,
     "metadata": {},
     "output_type": "execute_result"
    }
   ],
   "source": [
    "\"A\" in T1"
   ]
  },
  {
   "cell_type": "code",
   "execution_count": 45,
   "metadata": {},
   "outputs": [
    {
     "data": {
      "text/plain": [
       "'UCAD'"
      ]
     },
     "execution_count": 45,
     "metadata": {},
     "output_type": "execute_result"
    }
   ],
   "source": [
    "L1[4][1]"
   ]
  },
  {
   "cell_type": "code",
   "execution_count": 47,
   "metadata": {},
   "outputs": [
    {
     "data": {
      "text/plain": [
       "True"
      ]
     },
     "execution_count": 47,
     "metadata": {},
     "output_type": "execute_result"
    }
   ],
   "source": [
    "\"A\" in L1[4][1]"
   ]
  },
  {
   "cell_type": "code",
   "execution_count": 48,
   "metadata": {},
   "outputs": [
    {
     "data": {
      "text/plain": [
       "False"
      ]
     },
     "execution_count": 48,
     "metadata": {},
     "output_type": "execute_result"
    }
   ],
   "source": [
    "\"B\" in T1"
   ]
  },
  {
   "cell_type": "code",
   "execution_count": 46,
   "metadata": {},
   "outputs": [
    {
     "data": {
      "text/plain": [
       "True"
      ]
     },
     "execution_count": 46,
     "metadata": {},
     "output_type": "execute_result"
    }
   ],
   "source": [
    "3 not in L1"
   ]
  },
  {
   "cell_type": "code",
   "execution_count": null,
   "metadata": {},
   "outputs": [],
   "source": [
    "(0, 2.2, 8) in L1"
   ]
  },
  {
   "cell_type": "code",
   "execution_count": null,
   "metadata": {},
   "outputs": [],
   "source": [
    "\"M\" in L1[0]"
   ]
  },
  {
   "cell_type": "code",
   "execution_count": null,
   "metadata": {},
   "outputs": [],
   "source": [
    "\"M\" in T1[1]"
   ]
  },
  {
   "cell_type": "code",
   "execution_count": 49,
   "metadata": {},
   "outputs": [
    {
     "data": {
      "text/plain": [
       "False"
      ]
     },
     "execution_count": 49,
     "metadata": {},
     "output_type": "execute_result"
    }
   ],
   "source": [
    "\"t\" in \"TDSI\""
   ]
  },
  {
   "cell_type": "markdown",
   "metadata": {},
   "source": [
    "# Exercice"
   ]
  },
  {
   "cell_type": "markdown",
   "metadata": {},
   "source": [
    "# V-4. Opérations sur les chaines de caractères (str) et fstring"
   ]
  },
  {
   "cell_type": "markdown",
   "metadata": {},
   "source": [
    "On suppose **chaine** est de type **str** \n",
    "\n",
    "* `chaine.lower()` : mettre  tous les caractères en minuscule\n",
    "* `chaine.upper()` : mettre  tous les caractères en majuscule\n",
    "* `chaine.replace(ch1, ch2)` : remplace ch1 par ch2\n",
    "* `chaine.endswith(x)` : renvoie `True` si `chaine` se termine par `x` et `False` dans le cas contraire\n",
    "* `chaine.startswith(x)` : renvoie `True` si `chaine` commence par `x` et `False` dans le cas contraire\n",
    "* `chaine1 + chaine2` : la concaténation de chaine1 et de chaine\n",
    "* `n * chaine` avec $n$ un entier : $\\underset{n\\ \\text{fois}}{\\underbrace{\\text{chaine} + \\text{chaine}+ \\ldots + \\text{chaine}}}$\n",
    "* `index`\n",
    "* `split`\n",
    "\n"
   ]
  },
  {
   "cell_type": "markdown",
   "metadata": {},
   "source": [
    "## Exercice:\n",
    "- Demander à l'utilisateur de donner son adresse email `patie1@partie` et \n",
    "    - Affciher les parties ``patie1, partie`"
   ]
  },
  {
   "cell_type": "code",
   "execution_count": 55,
   "metadata": {},
   "outputs": [
    {
     "ename": "SyntaxError",
     "evalue": "invalid syntax (<ipython-input-55-6603e10b1e55>, line 2)",
     "output_type": "error",
     "traceback": [
      "\u001b[1;36m  File \u001b[1;32m\"<ipython-input-55-6603e10b1e55>\"\u001b[1;36m, line \u001b[1;32m2\u001b[0m\n\u001b[1;33m    email.index(@)\u001b[0m\n\u001b[1;37m                ^\u001b[0m\n\u001b[1;31mSyntaxError\u001b[0m\u001b[1;31m:\u001b[0m invalid syntax\n"
     ]
    }
   ],
   "source": [
    "email=falloud70@gmail.com\n",
    "emai"
   ]
  },
  {
   "cell_type": "code",
   "execution_count": 7,
   "metadata": {},
   "outputs": [
    {
     "name": "stdout",
     "output_type": "stream",
     "text": [
      "votre mail svp jgfj@hgj\n",
      "jgfj hgj\n"
     ]
    }
   ],
   "source": [
    "mail = input(\"votre mail svp \")\n",
    "partie1, partie2 = mail.split('@')\n",
    "print(partie1, partie2)"
   ]
  },
  {
   "cell_type": "markdown",
   "metadata": {},
   "source": [
    "Solution1"
   ]
  },
  {
   "cell_type": "code",
   "execution_count": 6,
   "metadata": {},
   "outputs": [
    {
     "name": "stdout",
     "output_type": "stream",
     "text": [
      " votre mailhglg@jj\n"
     ]
    },
    {
     "data": {
      "text/plain": [
       "'faggg'"
      ]
     },
     "execution_count": 6,
     "metadata": {},
     "output_type": "execute_result"
    }
   ],
   "source": [
    "mail=input(\" votre mail\")\n",
    "ind_a=mail.index('@')\n",
    "partie1"
   ]
  },
  {
   "cell_type": "code",
   "execution_count": null,
   "metadata": {},
   "outputs": [],
   "source": [
    "dir(str)"
   ]
  },
  {
   "cell_type": "code",
   "execution_count": 58,
   "metadata": {},
   "outputs": [],
   "source": [
    "chaine = \"Bonjour Monsieur Sow\""
   ]
  },
  {
   "cell_type": "code",
   "execution_count": 59,
   "metadata": {},
   "outputs": [
    {
     "data": {
      "text/plain": [
       "'bonjour monsieur sow'"
      ]
     },
     "execution_count": 59,
     "metadata": {},
     "output_type": "execute_result"
    }
   ],
   "source": [
    "chaine.lower()"
   ]
  },
  {
   "cell_type": "code",
   "execution_count": 60,
   "metadata": {},
   "outputs": [
    {
     "data": {
      "text/plain": [
       "'BONJOUR MONSIEUR SOW'"
      ]
     },
     "execution_count": 60,
     "metadata": {},
     "output_type": "execute_result"
    }
   ],
   "source": [
    "chaine.upper()"
   ]
  },
  {
   "cell_type": "code",
   "execution_count": 61,
   "metadata": {},
   "outputs": [
    {
     "data": {
      "text/plain": [
       "'Bonjour Monsieur SECK'"
      ]
     },
     "execution_count": 61,
     "metadata": {},
     "output_type": "execute_result"
    }
   ],
   "source": [
    "chaine.replace(\"Sow\", \"SECK\")"
   ]
  },
  {
   "cell_type": "code",
   "execution_count": 62,
   "metadata": {},
   "outputs": [
    {
     "data": {
      "text/plain": [
       "'BONJOURMONSIEURSOW'"
      ]
     },
     "execution_count": 62,
     "metadata": {},
     "output_type": "execute_result"
    }
   ],
   "source": [
    "ch1 = chaine.upper()\n",
    "ch2 = ch1.replace(\" \", \"\") \n",
    "ch2\n",
    "# enlever les espaces"
   ]
  },
  {
   "cell_type": "code",
   "execution_count": null,
   "metadata": {},
   "outputs": [],
   "source": [
    "chaine. #tabulation"
   ]
  },
  {
   "cell_type": "code",
   "execution_count": 12,
   "metadata": {},
   "outputs": [
    {
     "data": {
      "text/plain": [
       "'A'"
      ]
     },
     "execution_count": 12,
     "metadata": {},
     "output_type": "execute_result"
    }
   ],
   "source": [
    "### code ASCII\n",
    "ord(\"A\")"
   ]
  },
  {
   "cell_type": "code",
   "execution_count": 13,
   "metadata": {},
   "outputs": [
    {
     "data": {
      "text/plain": [
       "'A'"
      ]
     },
     "execution_count": 13,
     "metadata": {},
     "output_type": "execute_result"
    }
   ],
   "source": [
    "###l'opperation inverse\n",
    "chr(65)"
   ]
  },
  {
   "cell_type": "markdown",
   "metadata": {},
   "source": [
    "### Fstring"
   ]
  },
  {
   "cell_type": "code",
   "execution_count": null,
   "metadata": {},
   "outputs": [],
   "source": [
    "x = 2\n",
    "y = x**2\n",
    "\n",
    "diff = abs(x - y)\n",
    "\n",
    "# ch3 = \"Pour x=2, y=4, et la différence de x et de y = 2\"\n",
    "ch3 = f\"Pour x={x}, y={y}, et la différence de x et de y diff= {diff}\"\n",
    "ch3"
   ]
  },
  {
   "cell_type": "code",
   "execution_count": null,
   "metadata": {},
   "outputs": [],
   "source": [
    "a=int(input(\"entrer la valeur\"))\n",
    "print(\"le carree de {} est {} \".format(a,a**2))"
   ]
  },
  {
   "cell_type": "markdown",
   "metadata": {},
   "source": [
    "# la méthode .format()"
   ]
  },
  {
   "cell_type": "code",
   "execution_count": null,
   "metadata": {},
   "outputs": [],
   "source": [
    "x, y = 5, 9"
   ]
  },
  {
   "cell_type": "code",
   "execution_count": null,
   "metadata": {},
   "outputs": [],
   "source": [
    "ch4 = \"Pour x={}, y={}, et la différence de x et de y\".format(x, y)\n",
    "ch4\n"
   ]
  },
  {
   "cell_type": "code",
   "execution_count": null,
   "metadata": {},
   "outputs": [],
   "source": [
    "ch4 = \"Pour y={1}, x={0}, et la différence de x et de y\".format(x, y)\n",
    "ch4"
   ]
  },
  {
   "cell_type": "code",
   "execution_count": null,
   "metadata": {},
   "outputs": [],
   "source": [
    "ch5 = \"La valeur de x={0}, sa valeur absolue est {0} et son carré est {1}\".format(x, y)"
   ]
  },
  {
   "cell_type": "code",
   "execution_count": null,
   "metadata": {},
   "outputs": [],
   "source": [
    "chaine1 = \"Bonjour\"\n",
    "chaine2 = \"tout le monde !\""
   ]
  },
  {
   "cell_type": "code",
   "execution_count": null,
   "metadata": {},
   "outputs": [],
   "source": [
    "chaine1 + chaine2"
   ]
  },
  {
   "cell_type": "code",
   "execution_count": null,
   "metadata": {},
   "outputs": [],
   "source": [
    "chaine1 + \" \" + chaine2"
   ]
  },
  {
   "cell_type": "markdown",
   "metadata": {},
   "source": [
    "### Si L est une liste de chaine de caractères alors\n",
    "\n",
    "* `chaine.join(L)` : renvoie chaine de caractères qui est la concaténation des éléments de L separés deux à deux par **chaine**  \n",
    "    i.e `L[0] + chaine + L[1] + chaine + L[2] + chaine + ... `"
   ]
  },
  {
   "cell_type": "code",
   "execution_count": null,
   "metadata": {},
   "outputs": [],
   "source": [
    "L = [\"A\", \"B\", \"C\", \"D\", \"F\"]"
   ]
  },
  {
   "cell_type": "code",
   "execution_count": null,
   "metadata": {},
   "outputs": [],
   "source": [
    "\"@\".join(L)"
   ]
  },
  {
   "cell_type": "code",
   "execution_count": null,
   "metadata": {},
   "outputs": [],
   "source": [
    "\" --> \".join(L)"
   ]
  },
  {
   "cell_type": "code",
   "execution_count": null,
   "metadata": {},
   "outputs": [],
   "source": [
    "\"\".join(L)"
   ]
  },
  {
   "cell_type": "code",
   "execution_count": 63,
   "metadata": {},
   "outputs": [
    {
     "name": "stdout",
     "output_type": "stream",
     "text": [
      "entrer un chaine cvbcj,jgh\n",
      "c-v-b-c-j-,-j-g-h\n"
     ]
    }
   ],
   "source": [
    "x=str(input(\"entrer un chaine \"))\n",
    "print(\"-\".join(list(x)))"
   ]
  },
  {
   "cell_type": "code",
   "execution_count": null,
   "metadata": {},
   "outputs": [],
   "source": [
    "chaine1.startswith(\"Bon\")"
   ]
  },
  {
   "cell_type": "code",
   "execution_count": null,
   "metadata": {},
   "outputs": [],
   "source": [
    "chaine2.endswith('!')"
   ]
  },
  {
   "cell_type": "markdown",
   "metadata": {},
   "source": [
    "**Exercice**:\n",
    "\n",
    "Demander à l'utilisateur son email et dire si c'est\n",
    "\n",
    "- `Gmail`\n",
    "- `Yahoo`\n",
    "- `EPT`\n",
    "- `Outlook`\n"
   ]
  },
  {
   "cell_type": "markdown",
   "metadata": {},
   "source": [
    "# V-5-1. Opérations sur les tuples"
   ]
  },
  {
   "cell_type": "code",
   "execution_count": null,
   "metadata": {},
   "outputs": [],
   "source": [
    "T = (\"BALDE\", \"NDIAYE\", \"SECK\", \"SOW\", \"NASSER\")\n",
    "T2 = (\"B\", \"N\", \"S\", \"N\")"
   ]
  },
  {
   "cell_type": "code",
   "execution_count": null,
   "metadata": {},
   "outputs": [],
   "source": [
    "del T[0]"
   ]
  },
  {
   "cell_type": "code",
   "execution_count": null,
   "metadata": {},
   "outputs": [],
   "source": [
    "dir(tuple)"
   ]
  },
  {
   "cell_type": "code",
   "execution_count": null,
   "metadata": {},
   "outputs": [],
   "source": []
  },
  {
   "cell_type": "markdown",
   "metadata": {},
   "source": [
    "ch4"
   ]
  },
  {
   "cell_type": "markdown",
   "metadata": {},
   "source": [
    "# V-5-2. Opérations sur les listes"
   ]
  },
  {
   "cell_type": "code",
   "execution_count": null,
   "metadata": {},
   "outputs": [],
   "source": [
    "dir(list)"
   ]
  },
  {
   "cell_type": "markdown",
   "metadata": {},
   "source": [
    "### Supposons que **L, L1** et **L2**  sont de type ``list``\n",
    "\n",
    "* `del L[i]` : supprime l'élément `L[i]` de la liste `L`\n",
    "* `L.append(val)`: ajoute `val` à la liste\n",
    "* `L1.extend(L2)` : rajoute `L2` à `L1`\n",
    "* `L1 + L2` : renvoie la concaténation des deux listes `L1` et `L2`\n",
    "* `L.insert(val, i)` : insert `val` à la position `i`\n",
    "* `L[i] = val` : remplace l'élément à la position `i` par `val`\n"
   ]
  },
  {
   "cell_type": "code",
   "execution_count": 14,
   "metadata": {},
   "outputs": [],
   "source": [
    "fruit = [\"Pomme\", \"Orange\", \"Mangue\", \"Bannane\", \"Pastec\", \"Citron\"]"
   ]
  },
  {
   "cell_type": "code",
   "execution_count": 15,
   "metadata": {},
   "outputs": [
    {
     "data": {
      "text/plain": [
       "['Pomme',\n",
       " 'Orange',\n",
       " 'Mangue',\n",
       " 'Bannane',\n",
       " 'Pastec',\n",
       " 'Citron',\n",
       " 'Pomme',\n",
       " 'Orange',\n",
       " 'Mangue',\n",
       " 'Bannane',\n",
       " 'Pastec',\n",
       " 'Citron']"
      ]
     },
     "execution_count": 15,
     "metadata": {},
     "output_type": "execute_result"
    }
   ],
   "source": [
    "fruit + fruit"
   ]
  },
  {
   "cell_type": "code",
   "execution_count": 16,
   "metadata": {},
   "outputs": [],
   "source": [
    "fruit.append(\"Clémentine\")\n"
   ]
  },
  {
   "cell_type": "code",
   "execution_count": 17,
   "metadata": {},
   "outputs": [
    {
     "data": {
      "text/plain": [
       "['Pomme', 'Orange', 'Mangue', 'Bannane', 'Pastec', 'Citron', 'Clémentine']"
      ]
     },
     "execution_count": 17,
     "metadata": {},
     "output_type": "execute_result"
    }
   ],
   "source": [
    "fruit"
   ]
  },
  {
   "cell_type": "code",
   "execution_count": 20,
   "metadata": {},
   "outputs": [],
   "source": [
    "fruit[1] = \"Mandarine\""
   ]
  },
  {
   "cell_type": "code",
   "execution_count": 21,
   "metadata": {},
   "outputs": [
    {
     "data": {
      "text/plain": [
       "['Pomme', 'Mandarine', 'Mangue', 'Bannane', 'Pastec', 'Citron', 'Clémentine']"
      ]
     },
     "execution_count": 21,
     "metadata": {},
     "output_type": "execute_result"
    }
   ],
   "source": [
    "fruit"
   ]
  },
  {
   "cell_type": "code",
   "execution_count": 23,
   "metadata": {},
   "outputs": [
    {
     "data": {
      "text/plain": [
       "['Pomme', 'Mangue', 'Bannane', 'Pastec', 'Citron', 'Clémentine']"
      ]
     },
     "execution_count": 23,
     "metadata": {},
     "output_type": "execute_result"
    }
   ],
   "source": [
    "del fruit[1]\n",
    "fruit"
   ]
  },
  {
   "cell_type": "code",
   "execution_count": 22,
   "metadata": {},
   "outputs": [
    {
     "name": "stdout",
     "output_type": "stream",
     "text": [
      "['Pomme', 'Mandarine', 'Mangue', 'Bannane', 'Pastec', 'Citron', 'Clémentine']\n"
     ]
    }
   ],
   "source": [
    "L = fruit[:]\n",
    "print(L)"
   ]
  },
  {
   "cell_type": "markdown",
   "metadata": {},
   "source": [
    "## Remarque : Effet de bord"
   ]
  },
  {
   "cell_type": "code",
   "execution_count": 24,
   "metadata": {},
   "outputs": [
    {
     "name": "stdout",
     "output_type": "stream",
     "text": [
      "[1, 2, 5]\n"
     ]
    }
   ],
   "source": [
    "L=[1,2]\n",
    "M=L\n",
    "M.append(5)\n",
    "print(M)"
   ]
  },
  {
   "cell_type": "code",
   "execution_count": 25,
   "metadata": {},
   "outputs": [
    {
     "name": "stdout",
     "output_type": "stream",
     "text": [
      "[1, 2, 5]\n"
     ]
    }
   ],
   "source": [
    "print(L)"
   ]
  },
  {
   "cell_type": "markdown",
   "metadata": {},
   "source": [
    "# Remarque : `mutables` et `immuables`\n",
    "\n",
    "La valeur de certains objets peut changer. Les objets qu'on peut modifier (`ajouter, supprimer, remplacer`) sont dits `mutables` (`mutable` en anglais) et les objets dont la valeur est définitivement fixée à leur création sont dits `immuables` (`immutable` en anglais).\n",
    "\n",
    "\n",
    "1. `mutables` : `'list', 'set', 'dict'` ; on peut modifier, supprimer, ajouter des éléments etc.\n",
    "2. `immuables` : `'int, float, str, tuple'`"
   ]
  },
  {
   "cell_type": "code",
   "execution_count": 26,
   "metadata": {},
   "outputs": [],
   "source": [
    "T = (1, 2, [1, 2])"
   ]
  },
  {
   "cell_type": "code",
   "execution_count": 29,
   "metadata": {},
   "outputs": [
    {
     "data": {
      "text/plain": [
       "2653190128512"
      ]
     },
     "execution_count": 29,
     "metadata": {},
     "output_type": "execute_result"
    }
   ],
   "source": [
    "id(T[2])"
   ]
  },
  {
   "cell_type": "code",
   "execution_count": 27,
   "metadata": {},
   "outputs": [],
   "source": [
    "T[2].append(\"TDSI\")"
   ]
  },
  {
   "cell_type": "code",
   "execution_count": 28,
   "metadata": {},
   "outputs": [
    {
     "data": {
      "text/plain": [
       "(1, 2, [1, 2, 'TDSI'])"
      ]
     },
     "execution_count": 28,
     "metadata": {},
     "output_type": "execute_result"
    }
   ],
   "source": [
    "T"
   ]
  },
  {
   "cell_type": "code",
   "execution_count": 30,
   "metadata": {},
   "outputs": [
    {
     "data": {
      "text/plain": [
       "2653190128512"
      ]
     },
     "execution_count": 30,
     "metadata": {},
     "output_type": "execute_result"
    }
   ],
   "source": [
    "id(T[2])"
   ]
  },
  {
   "cell_type": "markdown",
   "metadata": {},
   "source": [
    "# V-6. Opérations sur les dictionaires"
   ]
  },
  {
   "cell_type": "markdown",
   "metadata": {},
   "source": [
    "Supposons que `dico` est un dictionaire.\n",
    "\n",
    "\n",
    "- `dico.keys()` : les clefs de `dico` (`list(dico.keys()` retourne la liste des cles),\n",
    "- `dico.values()` : les valeurs de `dico` (`list(dico.values()` retourne la liste des valeurs),\n",
    "- `dico.items()` : les items de `dico` (`list(dico.items()` retourne la liste des items i.e `[(key1, valeur1), (key2, valeur2), ...., (keyn, valeurn)]`),\n",
    "- `dico.copy()` : une shallow copie de `dico`,\n",
    "- `key in dico` : renvoie `True` si `key` est une clé du ditionnaire `dico` et `False` dans le cas contraire,\n",
    "- `dico[key] =  valeur` ajoute l'élément  `key: valeur` au dictionaire,\n",
    "- `del dico[key]` supprime la clef `key` et sa valeur.\n",
    "\n"
   ]
  },
  {
   "cell_type": "code",
   "execution_count": 31,
   "metadata": {},
   "outputs": [],
   "source": [
    "dico = {\"A\": 0, \"B\": 1, \"C\": 2, \"D\": 3, \"E\": 4}"
   ]
  },
  {
   "cell_type": "code",
   "execution_count": 32,
   "metadata": {},
   "outputs": [
    {
     "data": {
      "text/plain": [
       "True"
      ]
     },
     "execution_count": 32,
     "metadata": {},
     "output_type": "execute_result"
    }
   ],
   "source": [
    "\"A\" in dico"
   ]
  },
  {
   "cell_type": "code",
   "execution_count": 33,
   "metadata": {},
   "outputs": [
    {
     "data": {
      "text/plain": [
       "dict_values([0, 1, 2, 3, 4])"
      ]
     },
     "execution_count": 33,
     "metadata": {},
     "output_type": "execute_result"
    }
   ],
   "source": [
    "dico.values()"
   ]
  },
  {
   "cell_type": "code",
   "execution_count": 34,
   "metadata": {},
   "outputs": [
    {
     "data": {
      "text/plain": [
       "dict_values"
      ]
     },
     "execution_count": 34,
     "metadata": {},
     "output_type": "execute_result"
    }
   ],
   "source": [
    "type(dico.values())"
   ]
  },
  {
   "cell_type": "code",
   "execution_count": 35,
   "metadata": {},
   "outputs": [
    {
     "data": {
      "text/plain": [
       "(0, 1, 2, 3, 4)"
      ]
     },
     "execution_count": 35,
     "metadata": {},
     "output_type": "execute_result"
    }
   ],
   "source": [
    "tuple(dico.values())"
   ]
  },
  {
   "cell_type": "code",
   "execution_count": 36,
   "metadata": {},
   "outputs": [
    {
     "data": {
      "text/plain": [
       "dict_items([('A', 0), ('B', 1), ('C', 2), ('D', 3), ('E', 4)])"
      ]
     },
     "execution_count": 36,
     "metadata": {},
     "output_type": "execute_result"
    }
   ],
   "source": [
    "dico.items()"
   ]
  },
  {
   "cell_type": "code",
   "execution_count": 37,
   "metadata": {},
   "outputs": [],
   "source": [
    "del dico['A']"
   ]
  },
  {
   "cell_type": "code",
   "execution_count": 38,
   "metadata": {},
   "outputs": [
    {
     "data": {
      "text/plain": [
       "{'B': 1, 'C': 2, 'D': 3, 'E': 4}"
      ]
     },
     "execution_count": 38,
     "metadata": {},
     "output_type": "execute_result"
    }
   ],
   "source": [
    "dico"
   ]
  },
  {
   "cell_type": "code",
   "execution_count": 39,
   "metadata": {},
   "outputs": [],
   "source": [
    "dico1 = {\"A\": 0, \"B\": 1}\n",
    "dico2 = {\"D\": 3, \"E\": 4}"
   ]
  },
  {
   "cell_type": "code",
   "execution_count": 40,
   "metadata": {},
   "outputs": [
    {
     "data": {
      "text/plain": [
       "{'A': 0, 'B': 1, 'D': 3, 'E': 4}"
      ]
     },
     "execution_count": 40,
     "metadata": {},
     "output_type": "execute_result"
    }
   ],
   "source": [
    "{**dico1, **dico2}"
   ]
  },
  {
   "cell_type": "code",
   "execution_count": 42,
   "metadata": {},
   "outputs": [
    {
     "ename": "AttributeError",
     "evalue": "type object 'dict' has no attribute 'upper'",
     "output_type": "error",
     "traceback": [
      "\u001b[1;31m---------------------------------------------------------------------------\u001b[0m",
      "\u001b[1;31mAttributeError\u001b[0m                            Traceback (most recent call last)",
      "\u001b[1;32m<ipython-input-42-5c83d7759316>\u001b[0m in \u001b[0;36m<module>\u001b[1;34m\u001b[0m\n\u001b[1;32m----> 1\u001b[1;33m \u001b[0mdict\u001b[0m\u001b[1;33m.\u001b[0m\u001b[0mupper\u001b[0m\u001b[1;33m\u001b[0m\u001b[1;33m\u001b[0m\u001b[0m\n\u001b[0m",
      "\u001b[1;31mAttributeError\u001b[0m: type object 'dict' has no attribute 'upper'"
     ]
    }
   ],
   "source": [
    "dict."
   ]
  },
  {
   "cell_type": "markdown",
   "metadata": {},
   "source": [
    "# Exercic1: methodes de mis-a-jour d'un dic"
   ]
  },
  {
   "cell_type": "markdown",
   "metadata": {},
   "source": [
    "# 7. Opérations sur les booleens"
   ]
  },
  {
   "cell_type": "markdown",
   "metadata": {},
   "source": []
  },
  {
   "cell_type": "code",
   "execution_count": null,
   "metadata": {},
   "outputs": [],
   "source": [
    "True + True"
   ]
  },
  {
   "cell_type": "code",
   "execution_count": null,
   "metadata": {},
   "outputs": [],
   "source": [
    "True - False"
   ]
  },
  {
   "cell_type": "code",
   "execution_count": null,
   "metadata": {},
   "outputs": [],
   "source": [
    "True and True"
   ]
  },
  {
   "cell_type": "code",
   "execution_count": null,
   "metadata": {},
   "outputs": [],
   "source": [
    "True or False\n"
   ]
  },
  {
   "cell_type": "code",
   "execution_count": 16,
   "metadata": {},
   "outputs": [
    {
     "ename": "KeyboardInterrupt",
     "evalue": "Interrupted by user",
     "output_type": "error",
     "traceback": [
      "\u001b[1;31m---------------------------------------------------------------------------\u001b[0m",
      "\u001b[1;31mKeyboardInterrupt\u001b[0m                         Traceback (most recent call last)",
      "\u001b[1;32m<ipython-input-16-8fa72a7d1224>\u001b[0m in \u001b[0;36m<module>\u001b[1;34m\u001b[0m\n\u001b[1;32m----> 1\u001b[1;33m \u001b[0mch\u001b[0m \u001b[1;33m=\u001b[0m \u001b[0minput\u001b[0m\u001b[1;33m(\u001b[0m\u001b[1;34m\"Saisir une phrase\"\u001b[0m\u001b[1;33m)\u001b[0m\u001b[1;33m\u001b[0m\u001b[1;33m\u001b[0m\u001b[0m\n\u001b[0m\u001b[0;32m      2\u001b[0m \u001b[0ma\u001b[0m \u001b[1;33m=\u001b[0m \u001b[0mch\u001b[0m \u001b[1;32mor\u001b[0m \u001b[1;34m\"Bonjour\"\u001b[0m\u001b[1;33m\u001b[0m\u001b[1;33m\u001b[0m\u001b[0m\n\u001b[0;32m      3\u001b[0m \u001b[0mprint\u001b[0m\u001b[1;33m(\u001b[0m\u001b[0ma\u001b[0m\u001b[1;33m)\u001b[0m\u001b[1;33m\u001b[0m\u001b[1;33m\u001b[0m\u001b[0m\n",
      "\u001b[1;32m~\\anaconda3\\lib\\site-packages\\ipykernel\\kernelbase.py\u001b[0m in \u001b[0;36mraw_input\u001b[1;34m(self, prompt)\u001b[0m\n\u001b[0;32m    858\u001b[0m                 \u001b[1;34m\"raw_input was called, but this frontend does not support input requests.\"\u001b[0m\u001b[1;33m\u001b[0m\u001b[1;33m\u001b[0m\u001b[0m\n\u001b[0;32m    859\u001b[0m             )\n\u001b[1;32m--> 860\u001b[1;33m         return self._input_request(str(prompt),\n\u001b[0m\u001b[0;32m    861\u001b[0m             \u001b[0mself\u001b[0m\u001b[1;33m.\u001b[0m\u001b[0m_parent_ident\u001b[0m\u001b[1;33m,\u001b[0m\u001b[1;33m\u001b[0m\u001b[1;33m\u001b[0m\u001b[0m\n\u001b[0;32m    862\u001b[0m             \u001b[0mself\u001b[0m\u001b[1;33m.\u001b[0m\u001b[0m_parent_header\u001b[0m\u001b[1;33m,\u001b[0m\u001b[1;33m\u001b[0m\u001b[1;33m\u001b[0m\u001b[0m\n",
      "\u001b[1;32m~\\anaconda3\\lib\\site-packages\\ipykernel\\kernelbase.py\u001b[0m in \u001b[0;36m_input_request\u001b[1;34m(self, prompt, ident, parent, password)\u001b[0m\n\u001b[0;32m    902\u001b[0m             \u001b[1;32mexcept\u001b[0m \u001b[0mKeyboardInterrupt\u001b[0m\u001b[1;33m:\u001b[0m\u001b[1;33m\u001b[0m\u001b[1;33m\u001b[0m\u001b[0m\n\u001b[0;32m    903\u001b[0m                 \u001b[1;31m# re-raise KeyboardInterrupt, to truncate traceback\u001b[0m\u001b[1;33m\u001b[0m\u001b[1;33m\u001b[0m\u001b[1;33m\u001b[0m\u001b[0m\n\u001b[1;32m--> 904\u001b[1;33m                 \u001b[1;32mraise\u001b[0m \u001b[0mKeyboardInterrupt\u001b[0m\u001b[1;33m(\u001b[0m\u001b[1;34m\"Interrupted by user\"\u001b[0m\u001b[1;33m)\u001b[0m \u001b[1;32mfrom\u001b[0m \u001b[1;32mNone\u001b[0m\u001b[1;33m\u001b[0m\u001b[1;33m\u001b[0m\u001b[0m\n\u001b[0m\u001b[0;32m    905\u001b[0m             \u001b[1;32mexcept\u001b[0m \u001b[0mException\u001b[0m \u001b[1;32mas\u001b[0m \u001b[0me\u001b[0m\u001b[1;33m:\u001b[0m\u001b[1;33m\u001b[0m\u001b[1;33m\u001b[0m\u001b[0m\n\u001b[0;32m    906\u001b[0m                 \u001b[0mself\u001b[0m\u001b[1;33m.\u001b[0m\u001b[0mlog\u001b[0m\u001b[1;33m.\u001b[0m\u001b[0mwarning\u001b[0m\u001b[1;33m(\u001b[0m\u001b[1;34m\"Invalid Message:\"\u001b[0m\u001b[1;33m,\u001b[0m \u001b[0mexc_info\u001b[0m\u001b[1;33m=\u001b[0m\u001b[1;32mTrue\u001b[0m\u001b[1;33m)\u001b[0m\u001b[1;33m\u001b[0m\u001b[1;33m\u001b[0m\u001b[0m\n",
      "\u001b[1;31mKeyboardInterrupt\u001b[0m: Interrupted by user"
     ]
    }
   ],
   "source": [
    "ch = input(\"Saisir une phrase\")\n",
    "a = ch or \"Bonjour\"\n",
    "print(a)"
   ]
  },
  {
   "cell_type": "markdown",
   "metadata": {},
   "source": [
    "# 8. Remaques\n",
    "\n",
    "\n",
    "`variable operateur= valeur`   est équivalent à `variable = variable operateur valeur`\n",
    "\n",
    "`+=      -=      *=      /=      //=     %=      &=      |=      ^=       **=`"
   ]
  },
  {
   "cell_type": "code",
   "execution_count": null,
   "metadata": {},
   "outputs": [],
   "source": [
    "x = 6\n",
    "# x = x + 4"
   ]
  },
  {
   "cell_type": "code",
   "execution_count": null,
   "metadata": {},
   "outputs": [],
   "source": [
    "x += 4\n",
    "print(x)"
   ]
  },
  {
   "cell_type": "code",
   "execution_count": null,
   "metadata": {},
   "outputs": [],
   "source": [
    "y = 20 \n",
    "y //= 5 # y = y // 5\n",
    "print(y)"
   ]
  },
  {
   "cell_type": "code",
   "execution_count": 8,
   "metadata": {},
   "outputs": [
    {
     "name": "stdout",
     "output_type": "stream",
     "text": [
      "15\n"
     ]
    }
   ],
   "source": [
    "def f(a,b):\n",
    "    if b==1:\n",
    "        return a\n",
    "    return a + f(a,b-1)\n",
    "print (f(3,5))"
   ]
  },
  {
   "cell_type": "code",
   "execution_count": 9,
   "metadata": {},
   "outputs": [
    {
     "data": {
      "text/plain": [
       "2"
      ]
     },
     "execution_count": 9,
     "metadata": {},
     "output_type": "execute_result"
    }
   ],
   "source": [
    "f(1,2)"
   ]
  },
  {
   "cell_type": "code",
   "execution_count": 28,
   "metadata": {},
   "outputs": [
    {
     "name": "stdout",
     "output_type": "stream",
     "text": [
      " Entrer une liste de valeur85,8,78,2\n",
      "Le plus grand est :\n",
      "85\n"
     ]
    }
   ],
   "source": [
    "def plusGrandNombre():\n",
    "    listNumber = eval(input(\" Entrer une liste de valeur\"))\n",
    "    print(\"Le plus grand est :\")\n",
    "    print (max(listNumber))\n",
    "plusGrandNombre() "
   ]
  },
  {
   "cell_type": "code",
   "execution_count": 52,
   "metadata": {},
   "outputs": [
    {
     "name": "stdout",
     "output_type": "stream",
     "text": [
      "les coordonnées polaires sont:\n",
      "7.999999999999999 \t 2.9999999999999996\n"
     ]
    },
    {
     "data": {
      "text/plain": [
       "1.9495789136817607"
      ]
     },
     "execution_count": 52,
     "metadata": {},
     "output_type": "execute_result"
    }
   ],
   "source": [
    "import math\n",
    "def transformCoordonne(x,y):\n",
    "    r_carre = x**2 + y**2\n",
    "    teta = math.atan(y/x)\n",
    "    x_pol = math.sqrt(r_carre)*math.cos(teta)\n",
    "    y_pol= math.sqrt(r_carre)*math.sin(teta)\n",
    "    print(\"les coordonnées polaires sont:\")\n",
    "    print(x_pol,\"\\t\",y_pol)\n",
    "transformCoordonne(8,3)\n",
    "math.atan(1.5)\n",
    "3.5*math.cos(0.98)"
   ]
  },
  {
   "cell_type": "code",
   "execution_count": null,
   "metadata": {},
   "outputs": [],
   "source": []
  }
 ],
 "metadata": {
  "kernelspec": {
   "display_name": "Python 3 (ipykernel)",
   "language": "python",
   "name": "python3"
  },
  "language_info": {
   "codemirror_mode": {
    "name": "ipython",
    "version": 3
   },
   "file_extension": ".py",
   "mimetype": "text/x-python",
   "name": "python",
   "nbconvert_exporter": "python",
   "pygments_lexer": "ipython3",
   "version": "3.9.7"
  }
 },
 "nbformat": 4,
 "nbformat_minor": 2
}
